{
 "cells": [
  {
   "cell_type": "code",
   "execution_count": 439,
   "metadata": {
    "tags": []
   },
   "outputs": [
    {
     "output_type": "display_data",
     "data": {
      "text/html": "\n    <div class=\"bk-root\">\n        <a href=\"https://bokeh.org\" target=\"_blank\" class=\"bk-logo bk-logo-small bk-logo-notebook\"></a>\n        <span id=\"37086\">Loading BokehJS ...</span>\n    </div>"
     },
     "metadata": {}
    },
    {
     "output_type": "display_data",
     "data": {
      "application/javascript": "\n(function(root) {\n  function now() {\n    return new Date();\n  }\n\n  var force = true;\n\n  if (typeof root._bokeh_onload_callbacks === \"undefined\" || force === true) {\n    root._bokeh_onload_callbacks = [];\n    root._bokeh_is_loading = undefined;\n  }\n\n  var JS_MIME_TYPE = 'application/javascript';\n  var HTML_MIME_TYPE = 'text/html';\n  var EXEC_MIME_TYPE = 'application/vnd.bokehjs_exec.v0+json';\n  var CLASS_NAME = 'output_bokeh rendered_html';\n\n  /**\n   * Render data to the DOM node\n   */\n  function render(props, node) {\n    var script = document.createElement(\"script\");\n    node.appendChild(script);\n  }\n\n  /**\n   * Handle when an output is cleared or removed\n   */\n  function handleClearOutput(event, handle) {\n    var cell = handle.cell;\n\n    var id = cell.output_area._bokeh_element_id;\n    var server_id = cell.output_area._bokeh_server_id;\n    // Clean up Bokeh references\n    if (id != null && id in Bokeh.index) {\n      Bokeh.index[id].model.document.clear();\n      delete Bokeh.index[id];\n    }\n\n    if (server_id !== undefined) {\n      // Clean up Bokeh references\n      var cmd = \"from bokeh.io.state import curstate; print(curstate().uuid_to_server['\" + server_id + \"'].get_sessions()[0].document.roots[0]._id)\";\n      cell.notebook.kernel.execute(cmd, {\n        iopub: {\n          output: function(msg) {\n            var id = msg.content.text.trim();\n            if (id in Bokeh.index) {\n              Bokeh.index[id].model.document.clear();\n              delete Bokeh.index[id];\n            }\n          }\n        }\n      });\n      // Destroy server and session\n      var cmd = \"import bokeh.io.notebook as ion; ion.destroy_server('\" + server_id + \"')\";\n      cell.notebook.kernel.execute(cmd);\n    }\n  }\n\n  /**\n   * Handle when a new output is added\n   */\n  function handleAddOutput(event, handle) {\n    var output_area = handle.output_area;\n    var output = handle.output;\n\n    // limit handleAddOutput to display_data with EXEC_MIME_TYPE content only\n    if ((output.output_type != \"display_data\") || (!output.data.hasOwnProperty(EXEC_MIME_TYPE))) {\n      return\n    }\n\n    var toinsert = output_area.element.find(\".\" + CLASS_NAME.split(' ')[0]);\n\n    if (output.metadata[EXEC_MIME_TYPE][\"id\"] !== undefined) {\n      toinsert[toinsert.length - 1].firstChild.textContent = output.data[JS_MIME_TYPE];\n      // store reference to embed id on output_area\n      output_area._bokeh_element_id = output.metadata[EXEC_MIME_TYPE][\"id\"];\n    }\n    if (output.metadata[EXEC_MIME_TYPE][\"server_id\"] !== undefined) {\n      var bk_div = document.createElement(\"div\");\n      bk_div.innerHTML = output.data[HTML_MIME_TYPE];\n      var script_attrs = bk_div.children[0].attributes;\n      for (var i = 0; i < script_attrs.length; i++) {\n        toinsert[toinsert.length - 1].firstChild.setAttribute(script_attrs[i].name, script_attrs[i].value);\n        toinsert[toinsert.length - 1].firstChild.textContent = bk_div.children[0].textContent\n      }\n      // store reference to server id on output_area\n      output_area._bokeh_server_id = output.metadata[EXEC_MIME_TYPE][\"server_id\"];\n    }\n  }\n\n  function register_renderer(events, OutputArea) {\n\n    function append_mime(data, metadata, element) {\n      // create a DOM node to render to\n      var toinsert = this.create_output_subarea(\n        metadata,\n        CLASS_NAME,\n        EXEC_MIME_TYPE\n      );\n      this.keyboard_manager.register_events(toinsert);\n      // Render to node\n      var props = {data: data, metadata: metadata[EXEC_MIME_TYPE]};\n      render(props, toinsert[toinsert.length - 1]);\n      element.append(toinsert);\n      return toinsert\n    }\n\n    /* Handle when an output is cleared or removed */\n    events.on('clear_output.CodeCell', handleClearOutput);\n    events.on('delete.Cell', handleClearOutput);\n\n    /* Handle when a new output is added */\n    events.on('output_added.OutputArea', handleAddOutput);\n\n    /**\n     * Register the mime type and append_mime function with output_area\n     */\n    OutputArea.prototype.register_mime_type(EXEC_MIME_TYPE, append_mime, {\n      /* Is output safe? */\n      safe: true,\n      /* Index of renderer in `output_area.display_order` */\n      index: 0\n    });\n  }\n\n  // register the mime type if in Jupyter Notebook environment and previously unregistered\n  if (root.Jupyter !== undefined) {\n    var events = require('base/js/events');\n    var OutputArea = require('notebook/js/outputarea').OutputArea;\n\n    if (OutputArea.prototype.mime_types().indexOf(EXEC_MIME_TYPE) == -1) {\n      register_renderer(events, OutputArea);\n    }\n  }\n\n  \n  if (typeof (root._bokeh_timeout) === \"undefined\" || force === true) {\n    root._bokeh_timeout = Date.now() + 5000;\n    root._bokeh_failed_load = false;\n  }\n\n  var NB_LOAD_WARNING = {'data': {'text/html':\n     \"<div style='background-color: #fdd'>\\n\"+\n     \"<p>\\n\"+\n     \"BokehJS does not appear to have successfully loaded. If loading BokehJS from CDN, this \\n\"+\n     \"may be due to a slow or bad network connection. Possible fixes:\\n\"+\n     \"</p>\\n\"+\n     \"<ul>\\n\"+\n     \"<li>re-rerun `output_notebook()` to attempt to load from CDN again, or</li>\\n\"+\n     \"<li>use INLINE resources instead, as so:</li>\\n\"+\n     \"</ul>\\n\"+\n     \"<code>\\n\"+\n     \"from bokeh.resources import INLINE\\n\"+\n     \"output_notebook(resources=INLINE)\\n\"+\n     \"</code>\\n\"+\n     \"</div>\"}};\n\n  function display_loaded() {\n    var el = document.getElementById(\"37086\");\n    if (el != null) {\n      el.textContent = \"BokehJS is loading...\";\n    }\n    if (root.Bokeh !== undefined) {\n      if (el != null) {\n        el.textContent = \"BokehJS \" + root.Bokeh.version + \" successfully loaded.\";\n      }\n    } else if (Date.now() < root._bokeh_timeout) {\n      setTimeout(display_loaded, 100)\n    }\n  }\n\n\n  function run_callbacks() {\n    try {\n      root._bokeh_onload_callbacks.forEach(function(callback) {\n        if (callback != null)\n          callback();\n      });\n    } finally {\n      delete root._bokeh_onload_callbacks\n    }\n    console.debug(\"Bokeh: all callbacks have finished\");\n  }\n\n  function load_libs(css_urls, js_urls, callback) {\n    if (css_urls == null) css_urls = [];\n    if (js_urls == null) js_urls = [];\n\n    root._bokeh_onload_callbacks.push(callback);\n    if (root._bokeh_is_loading > 0) {\n      console.debug(\"Bokeh: BokehJS is being loaded, scheduling callback at\", now());\n      return null;\n    }\n    if (js_urls == null || js_urls.length === 0) {\n      run_callbacks();\n      return null;\n    }\n    console.debug(\"Bokeh: BokehJS not loaded, scheduling load and callback at\", now());\n    root._bokeh_is_loading = css_urls.length + js_urls.length;\n\n    function on_load() {\n      root._bokeh_is_loading--;\n      if (root._bokeh_is_loading === 0) {\n        console.debug(\"Bokeh: all BokehJS libraries/stylesheets loaded\");\n        run_callbacks()\n      }\n    }\n\n    function on_error() {\n      console.error(\"failed to load \" + url);\n    }\n\n    for (var i = 0; i < css_urls.length; i++) {\n      var url = css_urls[i];\n      const element = document.createElement(\"link\");\n      element.onload = on_load;\n      element.onerror = on_error;\n      element.rel = \"stylesheet\";\n      element.type = \"text/css\";\n      element.href = url;\n      console.debug(\"Bokeh: injecting link tag for BokehJS stylesheet: \", url);\n      document.body.appendChild(element);\n    }\n\n    const hashes = {\"https://cdn.bokeh.org/bokeh/release/bokeh-2.1.1.min.js\": \"kLr4fYcqcSpbuI95brIH3vnnYCquzzSxHPU6XGQCIkQRGJwhg0StNbj1eegrHs12\", \"https://cdn.bokeh.org/bokeh/release/bokeh-widgets-2.1.1.min.js\": \"xIGPmVtaOm+z0BqfSOMn4lOR6ciex448GIKG4eE61LsAvmGj48XcMQZtKcE/UXZe\", \"https://cdn.bokeh.org/bokeh/release/bokeh-tables-2.1.1.min.js\": \"Dc9u1wF/0zApGIWoBbH77iWEHtdmkuYWG839Uzmv8y8yBLXebjO9ZnERsde5Ln/P\", \"https://cdn.bokeh.org/bokeh/release/bokeh-gl-2.1.1.min.js\": \"cT9JaBz7GiRXdENrJLZNSC6eMNF3nh3fa5fTF51Svp+ukxPdwcU5kGXGPBgDCa2j\"};\n\n    for (var i = 0; i < js_urls.length; i++) {\n      var url = js_urls[i];\n      var element = document.createElement('script');\n      element.onload = on_load;\n      element.onerror = on_error;\n      element.async = false;\n      element.src = url;\n      if (url in hashes) {\n        element.crossOrigin = \"anonymous\";\n        element.integrity = \"sha384-\" + hashes[url];\n      }\n      console.debug(\"Bokeh: injecting script tag for BokehJS library: \", url);\n      document.head.appendChild(element);\n    }\n  };\n\n  function inject_raw_css(css) {\n    const element = document.createElement(\"style\");\n    element.appendChild(document.createTextNode(css));\n    document.body.appendChild(element);\n  }\n\n  \n  var js_urls = [\"https://cdn.bokeh.org/bokeh/release/bokeh-2.1.1.min.js\", \"https://cdn.bokeh.org/bokeh/release/bokeh-widgets-2.1.1.min.js\", \"https://cdn.bokeh.org/bokeh/release/bokeh-tables-2.1.1.min.js\", \"https://cdn.bokeh.org/bokeh/release/bokeh-gl-2.1.1.min.js\"];\n  var css_urls = [];\n  \n\n  var inline_js = [\n    function(Bokeh) {\n      Bokeh.set_log_level(\"info\");\n    },\n    function(Bokeh) {\n    \n    \n    }\n  ];\n\n  function run_inline_js() {\n    \n    if (root.Bokeh !== undefined || force === true) {\n      \n    for (var i = 0; i < inline_js.length; i++) {\n      inline_js[i].call(root, root.Bokeh);\n    }\n    if (force === true) {\n        display_loaded();\n      }} else if (Date.now() < root._bokeh_timeout) {\n      setTimeout(run_inline_js, 100);\n    } else if (!root._bokeh_failed_load) {\n      console.log(\"Bokeh: BokehJS failed to load within specified timeout.\");\n      root._bokeh_failed_load = true;\n    } else if (force !== true) {\n      var cell = $(document.getElementById(\"37086\")).parents('.cell').data().cell;\n      cell.output_area.append_execute_result(NB_LOAD_WARNING)\n    }\n\n  }\n\n  if (root._bokeh_is_loading === 0) {\n    console.debug(\"Bokeh: BokehJS loaded, going straight to plotting\");\n    run_inline_js();\n  } else {\n    load_libs(css_urls, js_urls, function() {\n      console.debug(\"Bokeh: BokehJS plotting callback run at\", now());\n      run_inline_js();\n    });\n  }\n}(window));",
      "application/vnd.bokehjs_load.v0+json": "\n(function(root) {\n  function now() {\n    return new Date();\n  }\n\n  var force = true;\n\n  if (typeof root._bokeh_onload_callbacks === \"undefined\" || force === true) {\n    root._bokeh_onload_callbacks = [];\n    root._bokeh_is_loading = undefined;\n  }\n\n  \n\n  \n  if (typeof (root._bokeh_timeout) === \"undefined\" || force === true) {\n    root._bokeh_timeout = Date.now() + 5000;\n    root._bokeh_failed_load = false;\n  }\n\n  var NB_LOAD_WARNING = {'data': {'text/html':\n     \"<div style='background-color: #fdd'>\\n\"+\n     \"<p>\\n\"+\n     \"BokehJS does not appear to have successfully loaded. If loading BokehJS from CDN, this \\n\"+\n     \"may be due to a slow or bad network connection. Possible fixes:\\n\"+\n     \"</p>\\n\"+\n     \"<ul>\\n\"+\n     \"<li>re-rerun `output_notebook()` to attempt to load from CDN again, or</li>\\n\"+\n     \"<li>use INLINE resources instead, as so:</li>\\n\"+\n     \"</ul>\\n\"+\n     \"<code>\\n\"+\n     \"from bokeh.resources import INLINE\\n\"+\n     \"output_notebook(resources=INLINE)\\n\"+\n     \"</code>\\n\"+\n     \"</div>\"}};\n\n  function display_loaded() {\n    var el = document.getElementById(\"37086\");\n    if (el != null) {\n      el.textContent = \"BokehJS is loading...\";\n    }\n    if (root.Bokeh !== undefined) {\n      if (el != null) {\n        el.textContent = \"BokehJS \" + root.Bokeh.version + \" successfully loaded.\";\n      }\n    } else if (Date.now() < root._bokeh_timeout) {\n      setTimeout(display_loaded, 100)\n    }\n  }\n\n\n  function run_callbacks() {\n    try {\n      root._bokeh_onload_callbacks.forEach(function(callback) {\n        if (callback != null)\n          callback();\n      });\n    } finally {\n      delete root._bokeh_onload_callbacks\n    }\n    console.debug(\"Bokeh: all callbacks have finished\");\n  }\n\n  function load_libs(css_urls, js_urls, callback) {\n    if (css_urls == null) css_urls = [];\n    if (js_urls == null) js_urls = [];\n\n    root._bokeh_onload_callbacks.push(callback);\n    if (root._bokeh_is_loading > 0) {\n      console.debug(\"Bokeh: BokehJS is being loaded, scheduling callback at\", now());\n      return null;\n    }\n    if (js_urls == null || js_urls.length === 0) {\n      run_callbacks();\n      return null;\n    }\n    console.debug(\"Bokeh: BokehJS not loaded, scheduling load and callback at\", now());\n    root._bokeh_is_loading = css_urls.length + js_urls.length;\n\n    function on_load() {\n      root._bokeh_is_loading--;\n      if (root._bokeh_is_loading === 0) {\n        console.debug(\"Bokeh: all BokehJS libraries/stylesheets loaded\");\n        run_callbacks()\n      }\n    }\n\n    function on_error() {\n      console.error(\"failed to load \" + url);\n    }\n\n    for (var i = 0; i < css_urls.length; i++) {\n      var url = css_urls[i];\n      const element = document.createElement(\"link\");\n      element.onload = on_load;\n      element.onerror = on_error;\n      element.rel = \"stylesheet\";\n      element.type = \"text/css\";\n      element.href = url;\n      console.debug(\"Bokeh: injecting link tag for BokehJS stylesheet: \", url);\n      document.body.appendChild(element);\n    }\n\n    const hashes = {\"https://cdn.bokeh.org/bokeh/release/bokeh-2.1.1.min.js\": \"kLr4fYcqcSpbuI95brIH3vnnYCquzzSxHPU6XGQCIkQRGJwhg0StNbj1eegrHs12\", \"https://cdn.bokeh.org/bokeh/release/bokeh-widgets-2.1.1.min.js\": \"xIGPmVtaOm+z0BqfSOMn4lOR6ciex448GIKG4eE61LsAvmGj48XcMQZtKcE/UXZe\", \"https://cdn.bokeh.org/bokeh/release/bokeh-tables-2.1.1.min.js\": \"Dc9u1wF/0zApGIWoBbH77iWEHtdmkuYWG839Uzmv8y8yBLXebjO9ZnERsde5Ln/P\", \"https://cdn.bokeh.org/bokeh/release/bokeh-gl-2.1.1.min.js\": \"cT9JaBz7GiRXdENrJLZNSC6eMNF3nh3fa5fTF51Svp+ukxPdwcU5kGXGPBgDCa2j\"};\n\n    for (var i = 0; i < js_urls.length; i++) {\n      var url = js_urls[i];\n      var element = document.createElement('script');\n      element.onload = on_load;\n      element.onerror = on_error;\n      element.async = false;\n      element.src = url;\n      if (url in hashes) {\n        element.crossOrigin = \"anonymous\";\n        element.integrity = \"sha384-\" + hashes[url];\n      }\n      console.debug(\"Bokeh: injecting script tag for BokehJS library: \", url);\n      document.head.appendChild(element);\n    }\n  };\n\n  function inject_raw_css(css) {\n    const element = document.createElement(\"style\");\n    element.appendChild(document.createTextNode(css));\n    document.body.appendChild(element);\n  }\n\n  \n  var js_urls = [\"https://cdn.bokeh.org/bokeh/release/bokeh-2.1.1.min.js\", \"https://cdn.bokeh.org/bokeh/release/bokeh-widgets-2.1.1.min.js\", \"https://cdn.bokeh.org/bokeh/release/bokeh-tables-2.1.1.min.js\", \"https://cdn.bokeh.org/bokeh/release/bokeh-gl-2.1.1.min.js\"];\n  var css_urls = [];\n  \n\n  var inline_js = [\n    function(Bokeh) {\n      Bokeh.set_log_level(\"info\");\n    },\n    function(Bokeh) {\n    \n    \n    }\n  ];\n\n  function run_inline_js() {\n    \n    if (root.Bokeh !== undefined || force === true) {\n      \n    for (var i = 0; i < inline_js.length; i++) {\n      inline_js[i].call(root, root.Bokeh);\n    }\n    if (force === true) {\n        display_loaded();\n      }} else if (Date.now() < root._bokeh_timeout) {\n      setTimeout(run_inline_js, 100);\n    } else if (!root._bokeh_failed_load) {\n      console.log(\"Bokeh: BokehJS failed to load within specified timeout.\");\n      root._bokeh_failed_load = true;\n    } else if (force !== true) {\n      var cell = $(document.getElementById(\"37086\")).parents('.cell').data().cell;\n      cell.output_area.append_execute_result(NB_LOAD_WARNING)\n    }\n\n  }\n\n  if (root._bokeh_is_loading === 0) {\n    console.debug(\"Bokeh: BokehJS loaded, going straight to plotting\");\n    run_inline_js();\n  } else {\n    load_libs(css_urls, js_urls, function() {\n      console.debug(\"Bokeh: BokehJS plotting callback run at\", now());\n      run_inline_js();\n    });\n  }\n}(window));"
     },
     "metadata": {}
    }
   ],
   "source": [
    "import urllib\n",
    "from sklearn.feature_extraction.text import TfidfVectorizer\n",
    "import pandas as pd\n",
    "import numpy as np\n",
    "import umap\n",
    "import itertools\n",
    "\n",
    "from maayanlab_bioinformatics.enrichment import enrich_crisp\n",
    "\n",
    "from sklearn.decomposition import NMF\n",
    "\n",
    "# Bokeh\n",
    "from bokeh.io import output_notebook\n",
    "from bokeh.plotting import figure, show\n",
    "from bokeh.models import HoverTool, CustomJS, ColumnDataSource, Slider, Range1d\n",
    "from bokeh.layouts import column\n",
    "from bokeh.palettes import all_palettes\n",
    "output_notebook()"
   ]
  },
  {
   "cell_type": "markdown",
   "metadata": {},
   "source": [
    "\n",
    "    ,\n",
    "    ,\n",
    "    'DSigDB',\n",
    "    'GeneSigDB',\n",
    "    'GWAS_Catalog_2019',\n",
    "    'LINCS_L1000_Chem_Pert_down',\n",
    "    'LINCS_L1000_Chem_Pert_up',\n",
    "    'LINCS_L1000_Ligand_Perturbations_down',\n",
    "    'LINCS_L1000_Ligand_Perturbations_up',\n",
    "    'MSigDB_Computational',\n",
    "    'MSigDB_Oncogenic_Signatures',\n",
    "    'Old_CMAP_down',\n",
    "    'Old_CMAP_up',\n",
    "    'OMIM_Disease',\n",
    "    'OMIM_Expanded',\n",
    "    'PheWeb_2019',\n",
    "    'Rare_Diseases_AutoRIF_ARCHS4_Predictions',\n",
    "    'Rare_Diseases_AutoRIF_Gene_Lists',\n",
    "    'Rare_Diseases_GeneRIF_ARCHS4_Predictions',\n",
    "    'Rare_Diseases_GeneRIF_Gene_Lists',\n",
    "    'UK_Biobank_GWAS_v1',\n",
    "    'Virus_Perturbations_from_GEO_down',\n",
    "    'Virus_Perturbations_from_GEO_up',\n",
    "    'VirusMINT'\n",
    "    ## NOT VIRUS HOST\n",
    "\n",
    "    # take a closer look at:\n",
    "    'GO_Biological_Process_2018'\n",
    "    ['MGI_Mammalian_Phenotype_Level_4_2019']\n",
    "    'DisGeNET'"
   ]
  },
  {
   "cell_type": "code",
   "execution_count": 440,
   "metadata": {},
   "outputs": [],
   "source": [
    "all_libraries = ['DrugMatrix']\n",
    "#genes = ['TP53', 'TNF', 'EGFR', 'GKN1', 'HADHA', 'APOE', 'ESR1', 'VEGFA', 'TGFB1', 'PREPL', 'TIA1', 'TPO', 'TTN', 'SATB2', 'CHPF', 'MALL', 'MIPIP', 'NUPL1', 'IL6', 'PDIA3', 'CTNNB1', 'SLC39A1', 'DTNA','SLC1A1', 'GALNT2', 'HIST2H2AC', 'CD63']\n",
    "\n",
    "# open_gene_list_file = open('geneList.txt','r')\n",
    "# lines = open_gene_list_file.readlines()\n",
    "# genes = [x.strip().upper() for x in lines]\n",
    "# open_gene_list_file.close()\n",
    "\n",
    "significance_value = 0.05"
   ]
  },
  {
   "cell_type": "code",
   "execution_count": 441,
   "metadata": {},
   "outputs": [],
   "source": [
    "# open Enrichr library from online\n",
    "def get_Enrichr_library(library_index):\n",
    "    # processes library data\n",
    "    raw_library_data = []\n",
    "    library_data = []\n",
    "\n",
    "    with urllib.request.urlopen('https://amp.pharm.mssm.edu/Enrichr/geneSetLibrary?mode=text&libraryName=' + all_libraries[library_index]) as f:\n",
    "        for line in f.readlines():\n",
    "                raw_library_data.append(line.decode(\"utf-8\").split(\"\\t\\t\"))\n",
    "\n",
    "    name = []\n",
    "    gene_list = []\n",
    "\n",
    "    for i in range(len(raw_library_data)):\n",
    "        name += [raw_library_data[i][0]]\n",
    "        raw_genes = raw_library_data[i][1].replace('\\t', ' ')\n",
    "        gene_list += [raw_genes[:-1]]\n",
    "\n",
    "    library_data = [list(a) for a in zip(name, gene_list)]\n",
    "    \n",
    "    return library_data"
   ]
  },
  {
   "cell_type": "code",
   "execution_count": 442,
   "metadata": {
    "tags": []
   },
   "outputs": [
    {
     "output_type": "error",
     "ename": "TypeError",
     "evalue": "a bytes-like object is required, not 'list'",
     "traceback": [
      "\u001b[0;31m---------------------------------------------------------------------------\u001b[0m",
      "\u001b[0;31mTypeError\u001b[0m                                 Traceback (most recent call last)",
      "\u001b[0;32m<ipython-input-442-ace803118713>\u001b[0m in \u001b[0;36m<module>\u001b[0;34m\u001b[0m\n\u001b[1;32m     20\u001b[0m \u001b[0;34m\u001b[0m\u001b[0m\n\u001b[1;32m     21\u001b[0m \u001b[0mreduce\u001b[0m \u001b[0;34m=\u001b[0m \u001b[0mumap\u001b[0m\u001b[0;34m.\u001b[0m\u001b[0mUMAP\u001b[0m\u001b[0;34m(\u001b[0m\u001b[0;34m)\u001b[0m\u001b[0;34m\u001b[0m\u001b[0;34m\u001b[0m\u001b[0m\n\u001b[0;32m---> 22\u001b[0;31m \u001b[0mreduce\u001b[0m\u001b[0;34m.\u001b[0m\u001b[0mfit\u001b[0m\u001b[0;34m(\u001b[0m\u001b[0mtfidf\u001b[0m\u001b[0;34m)\u001b[0m\u001b[0;34m\u001b[0m\u001b[0;34m\u001b[0m\u001b[0m\n\u001b[0m\u001b[1;32m     23\u001b[0m \u001b[0membedding\u001b[0m \u001b[0;34m=\u001b[0m \u001b[0mreduce\u001b[0m\u001b[0;34m.\u001b[0m\u001b[0mtransform\u001b[0m\u001b[0;34m(\u001b[0m\u001b[0mtfidf\u001b[0m\u001b[0;34m)\u001b[0m\u001b[0;34m\u001b[0m\u001b[0;34m\u001b[0m\u001b[0m\n\u001b[1;32m     24\u001b[0m \u001b[0;34m\u001b[0m\u001b[0m\n",
      "\u001b[0;32m~/opt/anaconda3/envs/py383/lib/python3.8/site-packages/umap/umap_.py\u001b[0m in \u001b[0;36mfit\u001b[0;34m(self, X, y)\u001b[0m\n\u001b[1;32m   1831\u001b[0m                 \u001b[0mself\u001b[0m\u001b[0;34m.\u001b[0m\u001b[0m_search_graph\u001b[0m\u001b[0;34m.\u001b[0m\u001b[0mdata\u001b[0m \u001b[0;34m=\u001b[0m \u001b[0m_data\u001b[0m\u001b[0;34m\u001b[0m\u001b[0;34m\u001b[0m\u001b[0m\n\u001b[1;32m   1832\u001b[0m                 self._search_graph = self._search_graph.maximum(\n\u001b[0;32m-> 1833\u001b[0;31m                     \u001b[0mself\u001b[0m\u001b[0;34m.\u001b[0m\u001b[0m_search_graph\u001b[0m\u001b[0;34m.\u001b[0m\u001b[0mtranspose\u001b[0m\u001b[0;34m(\u001b[0m\u001b[0;34m)\u001b[0m\u001b[0;34m\u001b[0m\u001b[0;34m\u001b[0m\u001b[0m\n\u001b[0m\u001b[1;32m   1834\u001b[0m                 ).tocsr()\n\u001b[1;32m   1835\u001b[0m \u001b[0;34m\u001b[0m\u001b[0m\n",
      "\u001b[0;32m~/.local/lib/python3.8/site-packages/scipy/sparse/lil.py\u001b[0m in \u001b[0;36mtranspose\u001b[0;34m(self, axes, copy)\u001b[0m\n\u001b[1;32m    435\u001b[0m \u001b[0;34m\u001b[0m\u001b[0m\n\u001b[1;32m    436\u001b[0m     \u001b[0;32mdef\u001b[0m \u001b[0mtranspose\u001b[0m\u001b[0;34m(\u001b[0m\u001b[0mself\u001b[0m\u001b[0;34m,\u001b[0m \u001b[0maxes\u001b[0m\u001b[0;34m=\u001b[0m\u001b[0;32mNone\u001b[0m\u001b[0;34m,\u001b[0m \u001b[0mcopy\u001b[0m\u001b[0;34m=\u001b[0m\u001b[0;32mFalse\u001b[0m\u001b[0;34m)\u001b[0m\u001b[0;34m:\u001b[0m\u001b[0;34m\u001b[0m\u001b[0;34m\u001b[0m\u001b[0m\n\u001b[0;32m--> 437\u001b[0;31m         \u001b[0;32mreturn\u001b[0m \u001b[0mself\u001b[0m\u001b[0;34m.\u001b[0m\u001b[0mtocsr\u001b[0m\u001b[0;34m(\u001b[0m\u001b[0mcopy\u001b[0m\u001b[0;34m=\u001b[0m\u001b[0mcopy\u001b[0m\u001b[0;34m)\u001b[0m\u001b[0;34m.\u001b[0m\u001b[0mtranspose\u001b[0m\u001b[0;34m(\u001b[0m\u001b[0maxes\u001b[0m\u001b[0;34m=\u001b[0m\u001b[0maxes\u001b[0m\u001b[0;34m,\u001b[0m \u001b[0mcopy\u001b[0m\u001b[0;34m=\u001b[0m\u001b[0;32mFalse\u001b[0m\u001b[0;34m)\u001b[0m\u001b[0;34m.\u001b[0m\u001b[0mtolil\u001b[0m\u001b[0;34m(\u001b[0m\u001b[0mcopy\u001b[0m\u001b[0;34m=\u001b[0m\u001b[0;32mFalse\u001b[0m\u001b[0;34m)\u001b[0m\u001b[0;34m\u001b[0m\u001b[0;34m\u001b[0m\u001b[0m\n\u001b[0m\u001b[1;32m    438\u001b[0m \u001b[0;34m\u001b[0m\u001b[0m\n\u001b[1;32m    439\u001b[0m     \u001b[0mtranspose\u001b[0m\u001b[0;34m.\u001b[0m\u001b[0m__doc__\u001b[0m \u001b[0;34m=\u001b[0m \u001b[0mspmatrix\u001b[0m\u001b[0;34m.\u001b[0m\u001b[0mtranspose\u001b[0m\u001b[0;34m.\u001b[0m\u001b[0m__doc__\u001b[0m\u001b[0;34m\u001b[0m\u001b[0;34m\u001b[0m\u001b[0m\n",
      "\u001b[0;32m~/.local/lib/python3.8/site-packages/scipy/sparse/lil.py\u001b[0m in \u001b[0;36mtocsr\u001b[0;34m(self, copy)\u001b[0m\n\u001b[1;32m    460\u001b[0m             \u001b[0mindptr\u001b[0m \u001b[0;34m=\u001b[0m \u001b[0mnp\u001b[0m\u001b[0;34m.\u001b[0m\u001b[0mempty\u001b[0m\u001b[0;34m(\u001b[0m\u001b[0mM\u001b[0m \u001b[0;34m+\u001b[0m \u001b[0;36m1\u001b[0m\u001b[0;34m,\u001b[0m \u001b[0mdtype\u001b[0m\u001b[0;34m=\u001b[0m\u001b[0midx_dtype\u001b[0m\u001b[0;34m)\u001b[0m\u001b[0;34m\u001b[0m\u001b[0;34m\u001b[0m\u001b[0m\n\u001b[1;32m    461\u001b[0m             \u001b[0mindptr\u001b[0m\u001b[0;34m[\u001b[0m\u001b[0;36m0\u001b[0m\u001b[0;34m]\u001b[0m \u001b[0;34m=\u001b[0m \u001b[0;36m0\u001b[0m\u001b[0;34m\u001b[0m\u001b[0;34m\u001b[0m\u001b[0m\n\u001b[0;32m--> 462\u001b[0;31m             \u001b[0m_csparsetools\u001b[0m\u001b[0;34m.\u001b[0m\u001b[0mlil_get_lengths\u001b[0m\u001b[0;34m(\u001b[0m\u001b[0mself\u001b[0m\u001b[0;34m.\u001b[0m\u001b[0mrows\u001b[0m\u001b[0;34m,\u001b[0m \u001b[0mindptr\u001b[0m\u001b[0;34m[\u001b[0m\u001b[0;36m1\u001b[0m\u001b[0;34m:\u001b[0m\u001b[0;34m]\u001b[0m\u001b[0;34m)\u001b[0m\u001b[0;34m\u001b[0m\u001b[0;34m\u001b[0m\u001b[0m\n\u001b[0m\u001b[1;32m    463\u001b[0m             \u001b[0mnp\u001b[0m\u001b[0;34m.\u001b[0m\u001b[0mcumsum\u001b[0m\u001b[0;34m(\u001b[0m\u001b[0mindptr\u001b[0m\u001b[0;34m,\u001b[0m \u001b[0mout\u001b[0m\u001b[0;34m=\u001b[0m\u001b[0mindptr\u001b[0m\u001b[0;34m)\u001b[0m\u001b[0;34m\u001b[0m\u001b[0;34m\u001b[0m\u001b[0m\n\u001b[1;32m    464\u001b[0m             \u001b[0mnnz\u001b[0m \u001b[0;34m=\u001b[0m \u001b[0mindptr\u001b[0m\u001b[0;34m[\u001b[0m\u001b[0;34m-\u001b[0m\u001b[0;36m1\u001b[0m\u001b[0;34m]\u001b[0m\u001b[0;34m\u001b[0m\u001b[0;34m\u001b[0m\u001b[0m\n",
      "\u001b[0;32m_csparsetools.pyx\u001b[0m in \u001b[0;36mscipy.sparse._csparsetools.lil_get_lengths\u001b[0;34m()\u001b[0m\n",
      "\u001b[0;32m~/.local/lib/python3.8/site-packages/scipy/sparse/_csparsetools.cpython-38-darwin.so\u001b[0m in \u001b[0;36mView.MemoryView.memoryview_cwrapper\u001b[0;34m()\u001b[0m\n",
      "\u001b[0;32m~/.local/lib/python3.8/site-packages/scipy/sparse/_csparsetools.cpython-38-darwin.so\u001b[0m in \u001b[0;36mView.MemoryView.memoryview.__cinit__\u001b[0;34m()\u001b[0m\n",
      "\u001b[0;31mTypeError\u001b[0m: a bytes-like object is required, not 'list'"
     ]
    }
   ],
   "source": [
    "library_data = get_Enrichr_library(0)\n",
    "\n",
    "df = pd.DataFrame(data = library_data, columns = ['Name', 'Genes'])\n",
    "\n",
    "gene_list = df['Genes']\n",
    "\n",
    "tfidf_vectorizer = TfidfVectorizer(\n",
    "    min_df=1,\n",
    "    max_df=0.85,\n",
    "    max_features = 10000,\n",
    "    ngram_range=(1, 1)\n",
    ")\n",
    "\n",
    "tfidf = tfidf_vectorizer.fit_transform(gene_list)\n",
    "\n",
    "# Save the feature names for later to create topic summaries\n",
    "tfidf_fn = tfidf_vectorizer.get_feature_names()\n",
    "\n",
    "# plot after tfidf\n",
    "\n",
    "reduce = umap.UMAP()\n",
    "reduce.fit(tfidf)\n",
    "embedding = reduce.transform(tfidf)\n",
    "\n",
    "embedding = pd.DataFrame(embedding, columns=['x','y'])\n",
    "\n",
    "source1 = ColumnDataSource(\n",
    "        data=dict(\n",
    "            x = embedding.x,\n",
    "            y = embedding.y,\n",
    "            alpha = [0.7] * embedding.shape[0],\n",
    "            size = [7] * embedding.shape[0],\n",
    "            gene_set = df['Name']\n",
    "        )\n",
    "    )\n",
    "\n",
    "print(embedding.shape[0])\n",
    "\n",
    "hover_emb = HoverTool(names=[\"df\"], tooltips=\"\"\"\n",
    "    <div style=\"margin: 10\">\n",
    "        <div style=\"margin: 0 auto; width:300px;\">\n",
    "            <span style=\"font-size: 12px; font-weight: bold;\">Gene Set:</span>\n",
    "            <span style=\"font-size: 12px\">@gene_set</span>\n",
    "        </div>\n",
    "    </div>\n",
    "    \"\"\")\n",
    "tools_emb = [hover_emb, 'pan', 'wheel_zoom', 'reset']\n",
    "plot_emb = figure(plot_width=700, plot_height=700, tools=tools_emb)\n",
    "plot_emb.circle('x', 'y', size='size', \n",
    "                 alpha='alpha', line_alpha=0, line_width=0.01, source=source1, name=\"df\")\n",
    "\n",
    "show(plot_emb)"
   ]
  },
  {
   "cell_type": "code",
   "execution_count": 430,
   "metadata": {},
   "outputs": [],
   "source": [
    "# create and run NMF model\n",
    "\n",
    "n_comp = 10\n",
    "\n",
    "nmf = NMF(\n",
    "    n_components=n_comp, \n",
    "    max_iter=100000,\n",
    "    alpha=0.0\n",
    ")\n",
    "\n",
    "W = nmf.fit_transform(tfidf)\n",
    "H = nmf.components_\n",
    "nmf_embedding = nmf.transform(tfidf)"
   ]
  },
  {
   "cell_type": "code",
   "execution_count": 431,
   "metadata": {
    "tags": []
   },
   "outputs": [],
   "source": [
    "# enrichment analysis\n",
    "def get_library_iter(library_data):\n",
    "    for member in library_data:\n",
    "        term = member[0]\n",
    "        gene_set = member[1].split(' ')\n",
    "        yield term, gene_set\n",
    "\n",
    "def get_enrichment_results(genes, library_data):\n",
    "    return sorted(enrich_crisp(genes, get_library_iter(library_data), 20000, True), key=lambda r: r[1].pvalue)\n",
    "\n",
    "def get_pvalue(row, unzipped_results, all_results):\n",
    "    if row['Name'] in list(unzipped_results[0]):\n",
    "        index = list(unzipped_results[0]).index(row['Name'])\n",
    "        return all_results[index][1].pvalue\n",
    "    else:\n",
    "        return 1"
   ]
  },
  {
   "cell_type": "code",
   "execution_count": 432,
   "metadata": {
    "tags": []
   },
   "outputs": [],
   "source": [
    "# call UMAP\n",
    "\n",
    "reducer = umap.UMAP()\n",
    "reducer.fit(W)\n",
    "embedding = reducer.transform(W)\n",
    "\n",
    "embedding = umap.UMAP().fit_transform(tfidf.todense())\n",
    "embedding = pd.DataFrame(embedding, columns=['x','y'])\n",
    "\n",
    "# combine embedding with df\n",
    "df = pd.concat([embedding, df], axis=1)\n",
    "df.to_csv('Libraries/' + all_libraries[0] + '.csv', index = False)"
   ]
  },
  {
   "cell_type": "code",
   "execution_count": 433,
   "metadata": {
    "tags": []
   },
   "outputs": [
    {
     "output_type": "display_data",
     "data": {
      "text/html": "\n\n\n\n\n\n  <div class=\"bk-root\" id=\"d47400c4-5b6e-4b3e-b8d9-266ef661f2fe\" data-root-id=\"36327\"></div>\n"
     },
     "metadata": {}
    },
    {
     "output_type": "display_data",
     "data": {
      "application/javascript": "(function(root) {\n  function embed_document(root) {\n    \n  var docs_json = {\"97636df5-83c2-4ba7-97a2-a14630047746\":{\"roots\":{\"references\":[{\"attributes\":{\"below\":[{\"id\":\"36336\"}],\"center\":[{\"id\":\"36339\"},{\"id\":\"36343\"}],\"left\":[{\"id\":\"36340\"}],\"plot_height\":700,\"plot_width\":700,\"renderers\":[{\"id\":\"36355\"}],\"title\":{\"id\":\"37029\"},\"toolbar\":{\"id\":\"36347\"},\"x_range\":{\"id\":\"36328\"},\"x_scale\":{\"id\":\"36332\"},\"y_range\":{\"id\":\"36330\"},\"y_scale\":{\"id\":\"36334\"}},\"id\":\"36327\",\"subtype\":\"Figure\",\"type\":\"Plot\"},{\"attributes\":{\"fill_alpha\":{\"value\":0.1},\"fill_color\":{\"field\":\"colors\"},\"line_alpha\":{\"value\":0.1},\"line_color\":{\"value\":\"#1f77b4\"},\"line_width\":{\"value\":0.01},\"size\":{\"units\":\"screen\",\"value\":7},\"x\":{\"field\":\"x\"},\"y\":{\"field\":\"y\"}},\"id\":\"36354\",\"type\":\"Circle\"},{\"attributes\":{\"source\":{\"id\":\"36325\"}},\"id\":\"36356\",\"type\":\"CDSView\"},{\"attributes\":{},\"id\":\"36328\",\"type\":\"DataRange1d\"},{\"attributes\":{},\"id\":\"36334\",\"type\":\"LinearScale\"},{\"attributes\":{\"data\":{\"colors\":[\"#9467bd\",\"#c5b0d5\",\"#aec7e8\",\"#9467bd\",\"#ff7f0e\",\"#9467bd\",\"#aec7e8\",\"#9467bd\",\"#ff7f0e\",\"#ff9896\",\"#ff7f0e\",\"#c5b0d5\",\"#c5b0d5\",\"#d62728\",\"#2ca02c\",\"#d62728\",\"#ffbb78\",\"#ffbb78\",\"#1f77b4\",\"#1f77b4\",\"#ff9896\",\"#1f77b4\",\"#aec7e8\",\"#aec7e8\",\"#ffbb78\",\"#ffbb78\",\"#ff7f0e\",\"#aec7e8\",\"#ff7f0e\",\"#aec7e8\",\"#aec7e8\",\"#98df8a\",\"#ffbb78\",\"#ffbb78\",\"#ffbb78\",\"#c5b0d5\",\"#ff7f0e\",\"#ffbb78\",\"#ffbb78\",\"#1f77b4\",\"#ff7f0e\",\"#2ca02c\",\"#ffbb78\",\"#ff7f0e\",\"#9467bd\",\"#2ca02c\",\"#ff9896\",\"#9467bd\",\"#2ca02c\",\"#aec7e8\",\"#9467bd\",\"#c5b0d5\",\"#1f77b4\",\"#ffbb78\",\"#9467bd\",\"#2ca02c\",\"#2ca02c\",\"#c5b0d5\",\"#ffbb78\",\"#c5b0d5\",\"#ff9896\",\"#9467bd\",\"#98df8a\",\"#c5b0d5\",\"#2ca02c\",\"#d62728\",\"#ff9896\",\"#ff7f0e\",\"#c5b0d5\",\"#98df8a\",\"#ff9896\",\"#ff7f0e\",\"#ff7f0e\",\"#ff7f0e\",\"#aec7e8\",\"#ff9896\",\"#9467bd\",\"#2ca02c\",\"#d62728\",\"#ffbb78\",\"#c5b0d5\",\"#ffbb78\",\"#9467bd\",\"#ffbb78\",\"#ffbb78\",\"#ffbb78\",\"#ffbb78\",\"#c5b0d5\",\"#ffbb78\",\"#9467bd\",\"#aec7e8\",\"#ffbb78\",\"#ff7f0e\",\"#c5b0d5\",\"#9467bd\",\"#ff7f0e\",\"#1f77b4\",\"#aec7e8\",\"#ffbb78\",\"#c5b0d5\",\"#d62728\",\"#1f77b4\",\"#ffbb78\",\"#2ca02c\",\"#ffbb78\",\"#ffbb78\",\"#2ca02c\",\"#ffbb78\",\"#9467bd\",\"#2ca02c\",\"#d62728\",\"#9467bd\",\"#ffbb78\",\"#ff9896\",\"#ff9896\",\"#1f77b4\",\"#1f77b4\",\"#c5b0d5\",\"#ffbb78\",\"#2ca02c\",\"#ff9896\",\"#aec7e8\",\"#c5b0d5\",\"#d62728\",\"#2ca02c\",\"#2ca02c\",\"#ff7f0e\",\"#ffbb78\",\"#ffbb78\",\"#ff7f0e\",\"#98df8a\",\"#98df8a\",\"#2ca02c\",\"#aec7e8\",\"#ff7f0e\",\"#c5b0d5\",\"#1f77b4\",\"#c5b0d5\",\"#1f77b4\",\"#ff9896\",\"#1f77b4\",\"#c5b0d5\",\"#1f77b4\",\"#2ca02c\",\"#d62728\",\"#ff9896\",\"#2ca02c\",\"#d62728\",\"#aec7e8\",\"#98df8a\",\"#ff9896\",\"#9467bd\",\"#ff9896\",\"#2ca02c\",\"#d62728\",\"#ffbb78\",\"#aec7e8\",\"#9467bd\",\"#ffbb78\",\"#ffbb78\",\"#ff9896\",\"#c5b0d5\",\"#c5b0d5\",\"#ff9896\",\"#9467bd\",\"#ffbb78\",\"#c5b0d5\",\"#2ca02c\",\"#ffbb78\",\"#ffbb78\",\"#ffbb78\",\"#ff7f0e\",\"#ffbb78\",\"#2ca02c\",\"#aec7e8\",\"#ffbb78\",\"#ff9896\",\"#ffbb78\",\"#ff7f0e\",\"#aec7e8\",\"#98df8a\",\"#ff7f0e\",\"#aec7e8\",\"#aec7e8\",\"#2ca02c\",\"#c5b0d5\",\"#ff9896\",\"#2ca02c\",\"#c5b0d5\",\"#9467bd\",\"#2ca02c\",\"#2ca02c\",\"#ff9896\",\"#2ca02c\",\"#c5b0d5\",\"#aec7e8\",\"#c5b0d5\",\"#2ca02c\",\"#aec7e8\",\"#2ca02c\",\"#c5b0d5\",\"#c5b0d5\",\"#2ca02c\",\"#aec7e8\",\"#98df8a\",\"#9467bd\",\"#c5b0d5\",\"#c5b0d5\",\"#2ca02c\",\"#c5b0d5\",\"#d62728\",\"#ff7f0e\",\"#d62728\",\"#ff7f0e\",\"#1f77b4\",\"#aec7e8\",\"#d62728\",\"#aec7e8\",\"#2ca02c\",\"#98df8a\",\"#2ca02c\",\"#2ca02c\",\"#ff9896\",\"#ff9896\",\"#2ca02c\",\"#ff7f0e\",\"#2ca02c\",\"#c5b0d5\",\"#aec7e8\",\"#c5b0d5\",\"#1f77b4\",\"#1f77b4\",\"#1f77b4\",\"#c5b0d5\",\"#ff7f0e\",\"#1f77b4\",\"#2ca02c\",\"#2ca02c\",\"#ffbb78\",\"#ff9896\",\"#ffbb78\",\"#ff9896\",\"#ffbb78\",\"#1f77b4\",\"#ffbb78\",\"#c5b0d5\",\"#ffbb78\",\"#ffbb78\",\"#2ca02c\",\"#2ca02c\",\"#2ca02c\",\"#ff7f0e\",\"#ff7f0e\",\"#2ca02c\",\"#d62728\",\"#d62728\",\"#ff7f0e\",\"#1f77b4\",\"#1f77b4\",\"#aec7e8\",\"#ff9896\",\"#ff7f0e\",\"#ff9896\",\"#98df8a\",\"#2ca02c\",\"#98df8a\",\"#98df8a\",\"#98df8a\",\"#ff7f0e\",\"#ff9896\",\"#9467bd\",\"#ff9896\",\"#2ca02c\",\"#ff9896\",\"#98df8a\",\"#98df8a\",\"#98df8a\",\"#98df8a\",\"#98df8a\",\"#9467bd\",\"#aec7e8\",\"#aec7e8\",\"#2ca02c\",\"#c5b0d5\",\"#9467bd\",\"#d62728\",\"#ffbb78\",\"#ffbb78\",\"#ffbb78\",\"#ffbb78\",\"#d62728\",\"#d62728\",\"#d62728\",\"#ffbb78\",\"#ffbb78\",\"#2ca02c\",\"#ff7f0e\",\"#ffbb78\",\"#c5b0d5\",\"#c5b0d5\",\"#2ca02c\",\"#ffbb78\",\"#ffbb78\",\"#aec7e8\",\"#aec7e8\",\"#ff9896\",\"#aec7e8\",\"#aec7e8\",\"#c5b0d5\",\"#1f77b4\",\"#ff9896\",\"#98df8a\",\"#aec7e8\",\"#ff7f0e\",\"#9467bd\",\"#aec7e8\",\"#ff9896\",\"#ff7f0e\",\"#2ca02c\",\"#ffbb78\",\"#2ca02c\",\"#2ca02c\",\"#c5b0d5\",\"#aec7e8\",\"#9467bd\"],\"gene_set\":[\"22Rv1\",\"23132/87\",\"42-MG-BA\",\"769-P\",\"8-MG-BA\",\"A-172\",\"A-253\",\"A-375\",\"A-549\",\"A2058\",\"A2780\",\"A2780ADR\",\"A2780cis\",\"AGS\",\"AM-38\",\"ARH-77\",\"AU565\",\"AsPC-1\",\"BB30-HNC\",\"BHY\",\"BICR 10\",\"BICR 22\",\"BICR 78\",\"Becker\",\"BxPC-3\",\"C2BBe1\",\"CAL-27\",\"CAL-33\",\"CAL-51\",\"CAL-72\",\"CAS-1\",\"CHP-212\",\"CL1-1\",\"COLO 320HSR\",\"COLO 678\",\"COLO 680N\",\"COLO 684\",\"COLO 824\",\"COLO205\",\"COR-L23\",\"Ca9-22\",\"Caov-4\",\"Capan-1\",\"D-423MG\",\"D-502MG\",\"D-542MG\",\"DAN-G\",\"DBTRG-05MG\",\"DK-MG\",\"DOK\",\"DOV13\",\"DU145\",\"Detroit 562\",\"DiFi\",\"EBC-1\",\"EC-GI-10\",\"EFO-21\",\"EFO-27\",\"EGI-1\",\"EPLC-272H\",\"ES2\",\"ES4\",\"ES5\",\"ES8\",\"ESO-26\",\"ESO-51\",\"ESS-1\",\"EW-1\",\"EW-16\",\"EW-22\",\"EW-7\",\"Evsa-T\",\"FLO-1\",\"FaDu\",\"GB-1\",\"GI-1\",\"GP5d\",\"GaMG\",\"HARA\",\"HCC1143\",\"HCC1187\",\"HCC1395\",\"HCC15\",\"HCC1806\",\"HCC1937\",\"HCC1954\",\"HCC2998\",\"HCC38\",\"HCC70\",\"HCC78\",\"HCE-4\",\"HCT 116\",\"HCT 15\",\"HEC-1\",\"HEY\",\"HGC-27\",\"HO-1-u-1\",\"HOP-62\",\"HPAF-II\",\"HSC-3\",\"HSC-39\",\"HSC-4\",\"HT-29v1.0\",\"HT-29v1.1\",\"HT-55\",\"Hs 578T\",\"Hs 683\",\"HuP-T3\",\"HuP-T4\",\"IGROV-1\",\"IM-9\",\"IM95\",\"IST-MEL1\",\"JHOS-2\",\"JHOS-4\",\"JHU-011\",\"JHU-022\",\"JHU-029\",\"JIMT-1\",\"KATO III\",\"KINGS-1\",\"KLE\",\"KM12\",\"KMS-11\",\"KNS-42\",\"KNS-62\",\"KON\",\"KP-1N\",\"KP-3\",\"KP-4\",\"KP-N-YN\",\"KP-N-YS\",\"KTCTL-26A\",\"KYAE-1\",\"KYSE-140\",\"KYSE-150\",\"KYSE-220\",\"KYSE-270\",\"KYSE-410\",\"KYSE-450\",\"KYSE-510\",\"KYSE-520\",\"KYSE-70\",\"Kuramochi\",\"L-363\",\"LB1047-RCC\",\"LB771-HNC\",\"LC-1/sq\",\"LCLC-97TM1\",\"LK2\",\"LN-229\",\"LNCaP clone FGC\",\"LNZTA3WT4\",\"LOU-NH91\",\"LP-1\",\"LS1034\",\"LS123\",\"LS180\",\"LS411N\",\"LS513\",\"LXF 289\",\"LoVo\",\"Lu-65\",\"Lu-99A\",\"MCAS\",\"MCF-7\",\"MDA-MB-231\",\"MDA-MB-361\",\"MDA-MB-415\",\"MDA-MB-436\",\"MDA-MB-453\",\"MDA-MB-468\",\"MDST8\",\"MFE-280\",\"MFE-296\",\"MFM-223\",\"MHH-ES-1\",\"MIA PaCa-2\",\"MKN28\",\"MOG-G-UVW\",\"NB69\",\"NCI-H1155\",\"NCI-H1299\",\"NCI-H1355\",\"NCI-H1568\",\"NCI-H1650\",\"NCI-H1755\",\"NCI-H1869\",\"NCI-H1915\",\"NCI-H1944\",\"NCI-H1975\",\"NCI-H1993\",\"NCI-H2023\",\"NCI-H2087\",\"NCI-H2170\",\"NCI-H226\",\"NCI-H23\",\"NCI-H3118\",\"NCI-H3122\",\"NCI-H322M\",\"NCI-H358\",\"NCI-H520\",\"NCI-H650\",\"NCI-N87\",\"NH-12\",\"NMC-G1\",\"NUGC-3\",\"OACM5.1 C\",\"OAW42\",\"OC 314\",\"OCI-AML2\",\"OCI-AML3\",\"OCI-Ly19\",\"OCUB-M\",\"OE21\",\"OE33\",\"OPM-2\",\"OSC-19\",\"OSC-20\",\"OV-90\",\"OVCA420\",\"OVCAR-3\",\"OVCAR-5\",\"OVCAR-8\",\"OVISE\",\"OVK18\",\"OVMIU\",\"Onda 10\",\"Onda 11\",\"PC-14\",\"PCI-04B\",\"PCI-06A\",\"PCI-15A\",\"PCI-30\",\"PCI-38\",\"PE/CA-PJ15\",\"PEO1\",\"PEO4\",\"PL4\",\"PSN1\",\"PaTu 8902\",\"PaTu 8988t\",\"Panc 02.03\",\"Panc 03.27\",\"Panc 04.03\",\"Panc 08.13\",\"Panc 10.05\",\"RCM-1 [Human ESC]\",\"RERF-GC-1B\",\"RERF-LC-Sq1\",\"RKN\",\"RKO\",\"RL95-2\",\"RMG-I\",\"ROS-50\",\"RPMI-8226\",\"SAS\",\"SCC-4\",\"SCC-9\",\"SCH\",\"SF126\",\"SF295\",\"SF539\",\"SJNB-10\",\"SJNB-13\",\"SJNB-17\",\"SJNB-5\",\"SJNB-6\",\"SJNB-7\",\"SJSA-1\",\"SK-GT-4\",\"SK-MEL-2\",\"SK-MES-1\",\"SK-MG-1\",\"SK-N-AS\",\"SK-N-BE(2)-M17\",\"SK-N-DZ\",\"SK-N-FI\",\"SK-N-MC-IXC\",\"SK-N-SH\",\"SK-PN-DW\",\"SKN-3\",\"SNB-75\",\"SNG-M\",\"SNU-1\",\"SNU-16\",\"SNU-61\",\"SNU-81\",\"SNU-C1\",\"SNU-C5\",\"SU-DHL-10\",\"SU-DHL-5\",\"SU-DHL-8\",\"SU.86.86\",\"SUIT-2\",\"SW1088\",\"SW1573\",\"SW1990\",\"SW48\",\"SW620\",\"SW626\",\"SW837\",\"T-47D\",\"T84\",\"T98G\",\"TC71\",\"TE-10\",\"TE-5\",\"TE-9\",\"TE4\",\"TE8\",\"TGW\",\"TMK-1\",\"TOV-112D\",\"TOV-21G\",\"TT\",\"TYK-nu\",\"U-251MG\",\"U-87MG ATCC\",\"UACC-893\",\"UPCI-SCC-090\",\"UWB1.289\",\"VMRC-LCD\",\"YH-13\",\"hTERT-RPE1\"],\"x\":{\"__ndarray__\":\"H4AzQevyFkEacuVAVjE5QUD5EEEj2DtBZnX1QDzZJ0HUpP9AVosfQb+FB0Hc0CBBfdojQZJsCkF9UjZBZnQPQfltBEG/yxdBProgQe17BkGx0S9BZzb9QPh97EBcmfFApigeQe33CkFiyRVBWBDsQIZHBEGIVvNAdj4AQa2aPkHF0A9BCe4KQVOSD0FC9B9BSXIDQUgTIkEkDwtBrecZQcaUCkGrbilBmnUTQT1FCEEpdj1BXO8wQcyTHkGBpTlBwcErQShg8kAGNDlB+60kQf2dDEGFyQ1Br6ozQdgRIEFj5zBBe6wuQfI1KEERFB9BvsINQe1bOkFKDzhBiSkiQeXZLUHW/xlBFdwoQXriDUFl0zZBa7w5Qds0LkEsmARBl1wJQaVEA0Fj1/lAVekgQYlOCkH4CQdBUYMZQfcEEEFdlg9BdcQbQdt/NEGnyRtBxXkUQe4MHEHKJQhBXsQYQW8VHEGrczFB2FfqQPVlFEGgsAZBNJYsQTGcNkEwHgRBRP4SQRES6kCF8hRBG5sbQRJGEUF71gxB8mYJQdwcHUGakwpBvi0ZQfQaK0Fg7hdBkTgsQdIuLUEYeRNB2I4SQSufHEGG3y1BUz8vQXn2G0FkNApBsgAkQfVZHUG3AhhBiyM0QXE3+0CTZRhBHm4YQSFgOkH2PSBB84sMQSR6GUEVBhtBpfUEQRAlQkEMnEJBPMU2QbS+8ECvaQxBoTAZQbkIF0H2XxpBp3oNQUE+CkG3bwxBiaUkQbh5E0EBOCdBEjoZQdOpMkFSCxNBV64OQbLt6UDzlj9Bk2IeQeNpNUGtex1BReYwQTCFGUGv4wlBA37oQIyWEkGEBA1BAkQOQVVRIkG0pxJBL2UmQY4mNkEaHjNBQvIAQSFSIkGxvABB3PMDQbQfD0GPygJBESQAQQKrCUEJRAFBfk/2QKY8D0E02TNB7PwYQaK3DUGGivJAO+hAQagTAkFH4AJBuKQAQf89NEHbszFBI0YmQcdIK0GThjhB3xk1QQ8XM0E1rSZBjdwnQQyrIkFWES5B1XgBQaYbEUF64hhBc7vrQIZSAEHddTJBn/EtQUBALUGjRxFB91dEQbD78kDsIRZB0gAuQREJLUFf9y5BI5MQQfIEBEEr1hRBLLsBQZXvFEFoq/JAdcAXQTxZ+kA+2zVBA2c0Qa2FE0GI/BFBxFQjQdDwKUHE1yhBhFQDQQw5JUHjXSZB/mYkQfVZI0EDXR9BUJsaQZCwH0EZiC1B14EYQZJZHUFiKSpBQT4xQRNpA0E7ASBBbbsmQZ+cDkE5HCFBYDAhQVEbIEG9NiJBX8UXQYWrCUHgNDRB7o8WQcSUMEGDyAlBnmMBQTH/K0EGzhVBPswWQUc2BkGQCRhBATgcQWaO50BIMSdBlGsHQfpEH0Gv6ERBy5wEQceoREFsZT5BVapCQdh/BkFmiixBHdIwQf9KAEEEJjRBI3IcQZBZNkF680FBSEE/QZn1L0E2XRFBCXdBQdFHBkEtpu5A5sYqQWkWLEEsUjNBnycXQajcEEFfkRBBsGwNQUlhFkHLtxNBCd4TQcclE0GUjCVBzRIWQU37KEE71wJBhZEeQdMDGUHdqiRBBEogQVZFFUEzaQJBDVnrQEo+90A/lRZBYJvoQJog60AY0h1BRBUWQctrFUH90UBBFW/6QLYQFUGPvTRBFRHmQMJaGUFM2gFBdosrQZJPA0F7LzlBX7ElQbTmJUHUm/ZA05U8QQ==\",\"dtype\":\"float32\",\"order\":\"little\",\"shape\":[325]},\"y\":{\"__ndarray__\":\"ajz9QKMp50DUPjJBg+LqQD5iC0Hj/O1ASkosQf6U2ED51vxA4nXaQICKA0FEJQVBXNb/QECCFkFi/RRBjTEmQX7uykBIX7BAedoAQfDQGkFEfRFBGLoiQRnUMkGKkSVBely7QH/Zw0BDyApBcsQsQddi+kDQdzdBUxozQQdi/0Cpg8RA9JPoQKI8x0Apz/dATxUQQRdly0AKJrhA2fX/QOBWD0HPhQFBYDSzQNn2AkGcJulAewoOQSea2EAS6eRAviAOQYyTMEG9VvFAgdkQQR5UB0GqQ69AEHrYQMU5FUF0Mx9BGo3tQIsfv0CmThNB4Oz3QPH++0AOfwVBF3DTQLemFUE3Zg5BoovyQDYMBkH5LANBZhAEQeL5/EC5hvBA7U4PQe+nBEGPmSxBxacMQa3O20AMgQVB7EgPQXCZ10AkPuRAY67LQMFQ0kCAItZAoZ/LQBjOskDje7tAdhjUQNTetUCctthABpkpQYTkzkBbRPFA1u7pQPXm7ECV6AlBjV0TQYWYMEFf2qxAcvnwQABqCkGCSw9BtIvHQJGhE0H5DrRAASDAQIueDEF+jMhAdF7IQBb970Dq5CRBzw/zQA8NyEAGTvpAVaf5QD/PBEH2XQ1Blcr4QEiTx0DFJhRBL3UHQRlzNkHqA+VAC1UtQSYXD0G/oBBBddIBQfHZxUDJirpAmnwAQf0yBEGzpghBTUAaQasTMkHe7QtBZXn/QHXwFkHitvZAYyIWQVnDHEFfrhZBqiX3QPoEDkGXCAlBWW4tQRmV+0B5kRJBEkAOQbigOEHrsgVB7DQKQf3e3kBvDwlB09YZQQUzLUHMybNA3HY3QV6o3kBa+7NA1BGuQLEb/ECl/dlA6y/eQNt+7kA9dtFA3l3lQAsk0kD6wdZAEUTQQDIJ3kAnstRASG7yQNwDwUCp+TNB4UE3QarTA0EnTgBBO1+8QE/3A0Gb+ClBiHj2QOJPBEE9DyxBCYgpQZhWGkHY6wFBLmftQImpGEGMggBBbHT2QJ1rGEGxZRlBu2YBQfB6DkHfmgFB6swyQUb8AkFpvhhBd9g1QVRMNUEdONdApCkFQevtFUHgTRlB3QICQe4GMEE5u/tANGICQfIEH0GADOZAKjQlQeq+DUGLCCZBMjThQB1EFkHt6CxBbo8sQcNZL0G2URtB5DoMQZtADUHOqBFBvtDlQLyvC0G77gJBX7oAQZNcHEHD7gZBjZoRQXum5UB3U/5AKH8GQYig8EAjvgpBA2gPQRPkCEF6RBBBrUMRQek/70AKbtBAnfS8QLBq7UBUjrVAyRG8QEm7t0AzN7xAjRq+QGihukAQDB1BgrUNQexMHkFtbfhARjIBQXlZG0GaNitBwuktQdAOEkEHfgZB0TD5QMP2NUHwWhVBJN8GQQkIAUFDPwFBtkcKQUV2AEGY0ghB3GIEQW+JB0G8Fg9BVt/jQPxFKEHushdBiAAEQcZfD0FxwQhBDjwLQXk+FEHBswRBn/70QKX6HkHTQzNBsaYLQVxp4UCS+ORAkkAQQQoOtUDZoLxAigWvQFliyEByuSdBxqskQXhWJ0FFirlAtam/QH0DFEF+0QFBjybHQEng1UC86ctABewNQXoLu0DzONtA4xU1QY1yKEEcywJB0fs0QVYRLkFjPRJBxToJQVMLHEHI6wlBtJ0rQWsWBUEE9eVA9vozQWPsCUHnjwNBhpoOQewu00CVBQVBto8FQWC8F0Ex5jFBwEbrQA==\",\"dtype\":\"float32\",\"order\":\"little\",\"shape\":[325]}},\"selected\":{\"id\":\"37036\"},\"selection_policy\":{\"id\":\"37035\"}},\"id\":\"36325\",\"type\":\"ColumnDataSource\"},{\"attributes\":{\"fill_alpha\":{\"value\":0.7},\"fill_color\":{\"field\":\"colors\"},\"line_alpha\":{\"value\":0},\"line_color\":{\"value\":\"#1f77b4\"},\"line_width\":{\"value\":0.01},\"size\":{\"units\":\"screen\",\"value\":7},\"x\":{\"field\":\"x\"},\"y\":{\"field\":\"y\"}},\"id\":\"36353\",\"type\":\"Circle\"},{\"attributes\":{},\"id\":\"36346\",\"type\":\"ResetTool\"},{\"attributes\":{},\"id\":\"36332\",\"type\":\"LinearScale\"},{\"attributes\":{\"formatter\":{\"id\":\"37033\"},\"ticker\":{\"id\":\"36341\"}},\"id\":\"36340\",\"type\":\"LinearAxis\"},{\"attributes\":{},\"id\":\"37031\",\"type\":\"BasicTickFormatter\"},{\"attributes\":{},\"id\":\"36344\",\"type\":\"PanTool\"},{\"attributes\":{},\"id\":\"36337\",\"type\":\"BasicTicker\"},{\"attributes\":{},\"id\":\"37036\",\"type\":\"Selection\"},{\"attributes\":{},\"id\":\"36345\",\"type\":\"WheelZoomTool\"},{\"attributes\":{\"data_source\":{\"id\":\"36325\"},\"glyph\":{\"id\":\"36353\"},\"hover_glyph\":null,\"muted_glyph\":null,\"name\":\"df\",\"nonselection_glyph\":{\"id\":\"36354\"},\"selection_glyph\":null,\"view\":{\"id\":\"36356\"}},\"id\":\"36355\",\"type\":\"GlyphRenderer\"},{\"attributes\":{},\"id\":\"36330\",\"type\":\"DataRange1d\"},{\"attributes\":{\"axis\":{\"id\":\"36340\"},\"dimension\":1,\"ticker\":null},\"id\":\"36343\",\"type\":\"Grid\"},{\"attributes\":{},\"id\":\"37033\",\"type\":\"BasicTickFormatter\"},{\"attributes\":{},\"id\":\"36341\",\"type\":\"BasicTicker\"},{\"attributes\":{\"text\":\"\"},\"id\":\"37029\",\"type\":\"Title\"},{\"attributes\":{\"formatter\":{\"id\":\"37031\"},\"ticker\":{\"id\":\"36337\"}},\"id\":\"36336\",\"type\":\"LinearAxis\"},{\"attributes\":{\"callback\":null,\"names\":[\"df\"],\"tooltips\":\"\\n    <div style=\\\"margin: 10\\\">\\n        <div style=\\\"margin: 0 auto; width:300px;\\\">\\n            <span style=\\\"font-size: 12px; font-weight: bold;\\\">Gene Set:</span>\\n            <span style=\\\"font-size: 12px\\\">@gene_set</span>\\n            <span style=\\\"font-size: 12px; font-weight: bold;\\\">p-value:</span>\\n            <span style=\\\"font-size: 12px\\\">@p_value</span>\\n        </div>\\n    </div>\\n    \"},\"id\":\"36326\",\"type\":\"HoverTool\"},{\"attributes\":{},\"id\":\"37035\",\"type\":\"UnionRenderers\"},{\"attributes\":{\"active_drag\":\"auto\",\"active_inspect\":\"auto\",\"active_multi\":null,\"active_scroll\":\"auto\",\"active_tap\":\"auto\",\"tools\":[{\"id\":\"36326\"},{\"id\":\"36344\"},{\"id\":\"36345\"},{\"id\":\"36346\"}]},\"id\":\"36347\",\"type\":\"Toolbar\"},{\"attributes\":{\"axis\":{\"id\":\"36336\"},\"ticker\":null},\"id\":\"36339\",\"type\":\"Grid\"}],\"root_ids\":[\"36327\"]},\"title\":\"Bokeh Application\",\"version\":\"2.1.1\"}};\n  var render_items = [{\"docid\":\"97636df5-83c2-4ba7-97a2-a14630047746\",\"root_ids\":[\"36327\"],\"roots\":{\"36327\":\"d47400c4-5b6e-4b3e-b8d9-266ef661f2fe\"}}];\n  root.Bokeh.embed.embed_items_notebook(docs_json, render_items);\n\n  }\n  if (root.Bokeh !== undefined) {\n    embed_document(root);\n  } else {\n    var attempts = 0;\n    var timer = setInterval(function(root) {\n      if (root.Bokeh !== undefined) {\n        clearInterval(timer);\n        embed_document(root);\n      } else {\n        attempts++;\n        if (attempts > 100) {\n          clearInterval(timer);\n          console.log(\"Bokeh: ERROR: Unable to run BokehJS code because BokehJS library is missing\");\n        }\n      }\n    }, 10, root)\n  }\n})(window);",
      "application/vnd.bokehjs_exec.v0+json": ""
     },
     "metadata": {
      "application/vnd.bokehjs_exec.v0+json": {
       "id": "36327"
      }
     }
    }
   ],
   "source": [
    "# # call enrichment results\n",
    "# all_results = get_enrichment_results(genes, library_data)\n",
    "# unzipped_results = list(zip(*all_results))\n",
    "\n",
    "# # add p value to the dataframe\n",
    "# df['p value'] = df.apply (lambda row: get_pvalue(row, unzipped_results, all_results), axis=1)\n",
    "\n",
    "# my_colors = []\n",
    "# for index, row in df.iterrows():\n",
    "#     if row['p value'] < significance_value:\n",
    "#         my_colors += ['#000000']\n",
    "#     else:\n",
    "#         my_colors += [all_palettes['Category20'][20][0]]\n",
    "\n",
    "embedding['hue'] = nmf_embedding.argmax(axis = 1)\n",
    "my_colors = [all_palettes['Category20'][20][i] for i in embedding.hue]\n",
    "\n",
    "source = ColumnDataSource(\n",
    "        data=dict(\n",
    "            x = embedding.x,\n",
    "            y = embedding.y,\n",
    "            gene_set = df['Name'],\n",
    "            #p_value = df['p value'],\n",
    "            colors = my_colors\n",
    "        )\n",
    "    )\n",
    "\n",
    "hover_emb = HoverTool(names=[\"df\"], tooltips=\"\"\"\n",
    "    <div style=\"margin: 10\">\n",
    "        <div style=\"margin: 0 auto; width:300px;\">\n",
    "            <span style=\"font-size: 12px; font-weight: bold;\">Gene Set:</span>\n",
    "            <span style=\"font-size: 12px\">@gene_set</span>\n",
    "            <span style=\"font-size: 12px; font-weight: bold;\">p-value:</span>\n",
    "            <span style=\"font-size: 12px\">@p_value</span>\n",
    "        </div>\n",
    "    </div>\n",
    "    \"\"\")\n",
    "tools_emb = [hover_emb, 'pan', 'wheel_zoom', 'reset']\n",
    "plot_emb = figure(plot_width=700, plot_height=700, tools=tools_emb)\n",
    "plot_emb.circle('x', 'y', size = 7, alpha = 0.7, line_alpha = 0, \n",
    "                line_width = 0.01, source = source, fill_color = 'colors', name = \"df\")\n",
    "\n",
    "show(plot_emb)"
   ]
  },
  {
   "cell_type": "code",
   "execution_count": 434,
   "metadata": {
    "tags": []
   },
   "outputs": [
    {
     "output_type": "stream",
     "name": "stdout",
     "text": "Topics found via NMF:\n\nTopic 1:\n[edf1] [atp6v0e1] [uba3] [aifm1] [tyms] [stambp] [efr3a] [rab6a] [egfr] [arhgef7] [eif4e2] [ufc1] [adar] [tfdp1] [shq1]\n\nTopic 2:\n[ugt1a5] [ppp3cb] [ifna4] [map2k4] [phgr1] [c14orf2] [iqcb1] [rgs13] [fam133a] [slc25a40] [rcor1] [cox19] [tmem257] [ifna5] [ankmy2]\n\nTopic 3:\n[mrpl38] [mrps34] [mtg2] [mrps25] [ndufv1] [mrpl55] [mrpl44] [ndufa13] [ndufs8] [mrps27] [mrpl46] [cox5a] [gfm1] [mrpl21] [ndufa3]\n\nTopic 4:\n[tceal7] [hmgn5] [gype] [kras] [s100g] [skap2] [prdx3] [znf429] [hist1h2bd] [minos1] [yeats4] [defb125] [wfdc9] [angptl3] [ctnnb1]\n\nTopic 5:\n[scarf1] [maged4] [krtap4] [kcnj9] [snapin] [drd5] [extl3] [scaf1] [celsr2] [eif1ay] [ypel5] [psmd8] [ccdc174] [tceal3] [ubc]\n\nTopic 6:\n[isl1] [mycn] [pdcd6ip] [irs2] [fam175a] [ldb1] [furin] [cit] [c15orf41] [eif3k] [bcl2] [igf1r] [suz12] [hand2] [fam104b]\n\nTopic 7:\n[fpgs] [mthfd1] [nampt] [rfk] [dhodh] [atp1b3] [umps] [tada2b] [pfas] [cad] [gfpt1] [nmt1] [mvd] [med23] [ippk]\n\nTopic 8:\n[srf] [adat3] [c19orf52] [dohh] [mocs3] [trmt6] [ctu1] [ctu2] [timm22] [gtf3c5] [rtcb] [tprkb] [ndor1] [tsen54] [mnat1]\n\nTopic 9:\n[krtap10] [mdm4] [mdm2] [ppm1d] [krtap9] [tdgf1] [ifna1] [vcx2] [fam104b] [il9r] [dclre1b] [usp7] [gpx4] [dstn] [prb4]\n\nTopic 10:\n[krtap12] [slc25a38] [ccdc23] [sms] [tdgf1] [tmem230] [xage3] [ptms] [znf285] [slc25a5] [bak1] [rpl26l1] [ak4] [krtap5] [iglon5]\n\n"
    }
   ],
   "source": [
    "# this will print out the most common genes in each group\n",
    "# not super useful but kind of interesting\n",
    "n_topics = n_comp\n",
    "n_top_words = 15\n",
    "\n",
    "print(\"Topics found via NMF:\")\n",
    "for topic_idx, topic in enumerate(nmf.components_):\n",
    "    print(\"\\nTopic {}:\".format(topic_idx+1))\n",
    "    print(\" \".join(['[{}]'.format(tfidf_fn[i]) for i in topic.argsort()[:-n_top_words - 1:-1]]))\n",
    "print()"
   ]
  },
  {
   "cell_type": "code",
   "execution_count": null,
   "metadata": {},
   "outputs": [],
   "source": []
  }
 ],
 "metadata": {
  "kernelspec": {
   "display_name": "Python 3.8.3 64-bit ('py383': conda)",
   "language": "python",
   "name": "python38364bitpy383conda2309aa976eb546f3b7675a3d2adb70e0"
  },
  "language_info": {
   "codemirror_mode": {
    "name": "ipython",
    "version": 3
   },
   "file_extension": ".py",
   "mimetype": "text/x-python",
   "name": "python",
   "nbconvert_exporter": "python",
   "pygments_lexer": "ipython3",
   "version": "3.8.3-final"
  }
 },
 "nbformat": 4,
 "nbformat_minor": 2
}