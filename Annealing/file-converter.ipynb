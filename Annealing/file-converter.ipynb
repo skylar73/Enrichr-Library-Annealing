{
 "cells": [
  {
   "cell_type": "code",
   "execution_count": 40,
   "metadata": {},
   "outputs": [],
   "source": [
    "import pickle"
   ]
  },
  {
   "cell_type": "code",
   "execution_count": 41,
   "metadata": {},
   "outputs": [],
   "source": [
    "def fileConversion(library_name):\n",
    "    library_data = []\n",
    "\n",
    "    with open('Annealed-Libraries/' + library_name + '.txt', 'rb') as f:\n",
    "        library_data = pickle.load(f)\n",
    "\n",
    "    with open('Annealed-Libraries/' + library_name + '.txt', 'w') as f:\n",
    "        for index in range(len(library_data)):\n",
    "            new_line = ''\n",
    "            new_line += library_data[index][0] + '\\t' + '\\t'\n",
    "            for gene in library_data[index][1]:\n",
    "                new_line += gene + '\\t'\n",
    "            new_line += '\\n'\n",
    "            f.write(new_line)"
   ]
  },
  {
   "cell_type": "code",
   "execution_count": 42,
   "metadata": {},
   "outputs": [],
   "source": [
    "all_libraries = [\n",
    "    'Transcription_Factor_PPIs',\n",
    "    'TRRUST_Transcription_Factors_2019',\n",
    "    'BioCarta_2016',\n",
    "    'HMS_LINCS_KinomeScan',\n",
    "    'HumanCyc_2016',\n",
    "    'huMAP',\n",
    "    'KEA_2015',\n",
    "    'KEGG_2019_Human',\n",
    "    'KEGG_2019_Mouse',\n",
    "    'NCI-Nature_2016',\n",
    "    'Panther_2016',\n",
    "    'Phosphatase_Substrates_from_DEPOD',\n",
    "    'SILAC_Phosphoproteomics',\n",
    "    'SubCell_BarCode',\n",
    "    'WikiPathways_2019_Human',\n",
    "    'GO_Cellular_Component_2018',\n",
    "    'GO_Molecular_Function_2018',\n",
    "    'Achilles_fitness_decrease',\n",
    "    'Achilles_fitness_increase',\n",
    "    'ClinVar_2019',\n",
    "    'dbGaP',\n",
    "    'LINCS_L1000_Ligand_Perturbations_down',\n",
    "    'LINCS_L1000_Ligand_Perturbations_up',\n",
    "    'MSigDB_Computational',\n",
    "    'MSigDB_Oncogenic_Signatures',\n",
    "    'OMIM_Disease',\n",
    "    'OMIM_Expanded',\n",
    "    'PheWeb_2019',\n",
    "    'UK_Biobank_GWAS_v1',\n",
    "    'VirusMINT',\n",
    "    'Tissue_Protein_Expression_from_Human_Proteome_Map',\n",
    "    'Data_Acquisition_Method_Most_Popular_Genes',\n",
    "    'Enrichr_Libraries_Most_Popular_Genes',\n",
    "    'Pfam_InterPro_Domains',\n",
    "    'Pfam_Domains_2019',\n",
    "    'BioCarta_2013'\n",
    "    'BioCarta_2015',\n",
    "    'HumanCyc_2015']\n",
    "\n",
    "for library_name in all_libraries:\n",
    "    fileConversion(library_name)"
   ]
  }
 ],
 "metadata": {
  "language_info": {
   "codemirror_mode": {
    "name": "ipython",
    "version": 3
   },
   "file_extension": ".py",
   "mimetype": "text/x-python",
   "name": "python",
   "nbconvert_exporter": "python",
   "pygments_lexer": "ipython3",
   "version": "3.7.6-final"
  },
  "orig_nbformat": 2,
  "kernelspec": {
   "name": "python37664bitbasecondad81f4d096e8b4b9885e3d702e0bb3be1",
   "display_name": "Python 3.7.6 64-bit ('base': conda)"
  }
 },
 "nbformat": 4,
 "nbformat_minor": 2
}