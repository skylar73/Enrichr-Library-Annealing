{
 "cells": [
  {
   "cell_type": "markdown",
   "metadata": {},
   "source": [
    "### Canvas Creation from Enrichr"
   ]
  },
  {
   "cell_type": "code",
   "execution_count": 65,
   "metadata": {},
   "outputs": [],
   "source": [
    "import pandas as pd \n",
    "import numpy as np\n",
    "import pickle\n",
    "import json\n",
    "import requests\n",
    "import math\n",
    "import matplotlib\n",
    "import uuid\n",
    "import urllib\n",
    "import time as time\n",
    "from textwrap import dedent\n",
    "from IPython.core.display import display, HTML\n",
    "from string import Template\n",
    "from random import seed, randint\n",
    "from operator import itemgetter"
   ]
  },
  {
   "cell_type": "markdown",
   "metadata": {},
   "source": [
    "Below this is arbitrary definitions for these variables, their actual values will be selected in the Appyter (so DON'T ADD BELOW CELL TO APPYTER)"
   ]
  },
  {
   "cell_type": "code",
   "execution_count": 66,
   "metadata": {},
   "outputs": [],
   "source": [
    "all_libraries = ['Transcription_Factor_PPIs', 'TRRUST_Transcription_Factors_2019', 'HumanCyc_2016', 'huMAP', 'KEA_2015', 'KEGG_2019_Human', 'KEGG_2019_Mouse']"
   ]
  },
  {
   "cell_type": "code",
   "execution_count": 67,
   "metadata": {
    "tags": []
   },
   "outputs": [],
   "source": [
    "def library_processing(library_index):\n",
    "    # processes library data\n",
    "    raw_library_data = []\n",
    "    library_data = []\n",
    "\n",
    "    with urllib.request.urlopen('https://amp.pharm.mssm.edu/Enrichr/geneSetLibrary?mode=text&libraryName=' + all_libraries[library_index]) as f:\n",
    "        for line in f.readlines():\n",
    "                raw_library_data.append(line.decode(\"utf-8\").split(\"\\t\\t\"))\n",
    "    name = []\n",
    "    gene_list = []\n",
    "\n",
    "    for i in range(len(raw_library_data)):\n",
    "        name += [raw_library_data[i][0]]\n",
    "        raw_genes = raw_library_data[i][1].split(\"\\t\")\n",
    "        gene_list += [raw_genes[:-1]]\n",
    "\n",
    "    # determine the dimensions of the canvas\n",
    "    x_dimension = math.ceil(math.sqrt(len(name)))\n",
    "    y_dimension = math.ceil(math.sqrt(len(name)))\n",
    "\n",
    "    # zip name, gene_list, indices, and blank list for neighbor score then add dummy entries to the zipped list\n",
    "    num_hex = x_dimension*y_dimension\n",
    "    neighbor_score = [0.0] * len(name)\n",
    "    anneal_list = list(zip(name, gene_list, neighbor_score))\n",
    "\n",
    "    # add \"dummy\" hexagons so the rectangular shape is filled\n",
    "    for i in range(len(name), num_hex):\n",
    "        anneal_list += [('', [], 0.0)]\n",
    "\n",
    "    return anneal_list, x_dimension, y_dimension\n",
    "\n",
    "def unzip_list(anneal_list):\n",
    "    unzipped_list = zip(*anneal_list)\n",
    "    return list(unzipped_list)"
   ]
  },
  {
   "cell_type": "code",
   "execution_count": 68,
   "metadata": {
    "tags": []
   },
   "outputs": [],
   "source": [
    "def find_neighbors(ind, x_dimension, y_dimension):\n",
    "    # returns a list of the indices of the neighbors of the index given\n",
    "    \n",
    "    neighbors = []\n",
    "    num_hex = x_dimension * y_dimension\n",
    "\n",
    "    if 0 <= ind <= x_dimension-1:\n",
    "        # top row (inc. corners)\n",
    "        if ind == 0:\n",
    "            # top left corner\n",
    "            neighbors = [num_hex-1, num_hex-x_dimension, x_dimension-1, 2*x_dimension-1, ind+1, ind+x_dimension]\n",
    "        elif ind == (x_dimension-1):\n",
    "            # top right corner\n",
    "            neighbors = [ind-1, ind+x_dimension, 0, ind+x_dimension-1, num_hex-2, num_hex-1]\n",
    "        else:\n",
    "            # non-corner top row\n",
    "            neighbors = [ind-1, ind+1, ind+x_dimension, ind+num_hex-x_dimension-1, \n",
    "            ind+num_hex-x_dimension, ind+x_dimension-1]\n",
    "\n",
    "    elif (num_hex - x_dimension) <= ind <= num_hex -1:\n",
    "        if ind == (num_hex-x_dimension):\n",
    "            # bottom left corner\n",
    "            neighbors = [ind+1, ind-x_dimension, ind-x_dimension+1, 0, 1, num_hex-1]\n",
    "        elif ind == (num_hex-1):\n",
    "            # bottom right corner\n",
    "            neighbors = [ind-1, ind-x_dimension, ind-x_dimension+1, 0, x_dimension-1,\n",
    "            num_hex-2*x_dimension]\n",
    "        else:\n",
    "            # non-corner bottom row\n",
    "            neighbors = [ind-1, ind+1, ind-x_dimension, ind-x_dimension+1, ind-num_hex+x_dimension,\n",
    "            ind-num_hex+x_dimension+1]\n",
    "    elif ind % y_dimension == 0 and (ind/y_dimension)%2 == 1:\n",
    "        # \"inner\" left edge (not top or bottom row)\n",
    "        neighbors = [ind+x_dimension-1, ind+1, ind-x_dimension, ind-x_dimension+1, ind+x_dimension, \n",
    "        ind+x_dimension+1]\n",
    "    elif ind % y_dimension == 0 and (ind/y_dimension)%2 == 0:\n",
    "        # \"outer\" left edge (not top or bottom row)\n",
    "        neighbors = [ind-1, ind+1, ind+x_dimension, ind+2*x_dimension-1, ind-x_dimension, \n",
    "        ind+x_dimension-1]\n",
    "    elif (ind+1) % y_dimension == 0 and ((ind+1)/y_dimension)%2 == 0:\n",
    "        # \"outer\" right edge (not top or bottom row)\n",
    "        neighbors = [ind-1, ind+1, ind-x_dimension, ind-x_dimension+1, ind+x_dimension, \n",
    "        ind-2*x_dimension+1]\n",
    "    elif (ind+1) % y_dimension == 0 and ((ind+1)/y_dimension)%2 == 1:\n",
    "        # \"inner\" right edge (not top or bottom row)\n",
    "        neighbors = [ind-1, ind-x_dimension-1, ind-x_dimension, ind-x_dimension+1, ind+x_dimension, \n",
    "        ind+x_dimension-1]\n",
    "    else:\n",
    "        # middle\n",
    "        neighbors = [ind-1, ind+1, ind-x_dimension, ind-x_dimension+1, ind+x_dimension, \n",
    "        ind+x_dimension+1]\n",
    "    return neighbors"
   ]
  },
  {
   "cell_type": "code",
   "execution_count": 69,
   "metadata": {},
   "outputs": [],
   "source": [
    "# initially find fitness\n",
    "def find_fitness(anneal_list, x_dimension, y_dimension):\n",
    "    fitness = 0\n",
    "    for i in range(len(anneal_list)):\n",
    "        neighbors = find_neighbors(i, x_dimension, y_dimension)\n",
    "        sum_neighbor_score = 0\n",
    "        for index in neighbors:\n",
    "            intersection = [value for value in anneal_list[index][1] if value in anneal_list[i][1]]\n",
    "            if len(anneal_list[index][1]) + len(anneal_list[i][1]) != 0:\n",
    "                jaccard = len(intersection)/(len(anneal_list[index][1]) + len(anneal_list[i][1]))\n",
    "            else:\n",
    "                jaccard = 0.0\n",
    "            sum_neighbor_score += jaccard\n",
    "        hex_list = list(anneal_list[i])\n",
    "        hex_list[2] = sum_neighbor_score\n",
    "        hex_tuple = tuple(hex_list)\n",
    "        anneal_list[i] = hex_tuple\n",
    "        fitness += sum_neighbor_score\n",
    "    return fitness, anneal_list\n",
    "\n",
    "# take indices of swapped hexagons\n",
    "def find_swapped_fitness(anneal_list, swapped_a, swapped_b, old_fitness, x_dimension, y_dimension):\n",
    "    neighbors_a = find_neighbors(swapped_a, x_dimension, y_dimension)\n",
    "    neighbors_b = find_neighbors(swapped_b, x_dimension, y_dimension)\n",
    "    hexagons_to_update = [swapped_a, swapped_b] + neighbors_a + neighbors_b\n",
    "    anneal_copy = anneal_list.copy()\n",
    "\n",
    "    new_fitness = 0\n",
    "    # Recalculate scores for all hexagons that need updating\n",
    "    for hex in hexagons_to_update:\n",
    "\n",
    "        # subtract out the swapped neighbor fitnesses because they are changing \n",
    "        old_fitness -= anneal_copy[hex][2]\n",
    "\n",
    "        neighbors = find_neighbors(hex, x_dimension, y_dimension)\n",
    "        sum_neighbor_score = 0\n",
    "        for index in neighbors:\n",
    "            intersection = [value for value in anneal_copy[index][1] if value in anneal_copy[hex][1]]\n",
    "            if len(anneal_copy[index][1]) + len(anneal_copy[hex][1]) != 0:\n",
    "                jaccard = len(intersection)/(len(anneal_copy[index][1]) + len(anneal_copy[hex][1]))\n",
    "            else:\n",
    "                jaccard = 0.0\n",
    "            sum_neighbor_score += jaccard\n",
    "        hex_list = list(anneal_copy[hex])\n",
    "        hex_list[2] = sum_neighbor_score\n",
    "        hex_tuple = tuple(hex_list)\n",
    "        anneal_copy[hex] = hex_tuple\n",
    "        new_fitness += sum_neighbor_score\n",
    "        \n",
    "    return old_fitness + new_fitness, anneal_copy"
   ]
  },
  {
   "cell_type": "code",
   "execution_count": 70,
   "metadata": {},
   "outputs": [],
   "source": [
    "def annealing(anneal_list, steps, old_fitness, x_dimension, y_dimension):\n",
    "    num_hex = x_dimension * y_dimension\n",
    "    # returns unzipped list\n",
    "    for i in range(steps):\n",
    "        index_a = randint(0, num_hex-1)\n",
    "        index_b = randint(0, num_hex-1)\n",
    "        anneal_list[index_a], anneal_list[index_b] = anneal_list[index_b], anneal_list[index_a]\n",
    "        new_fitness, new_anneal_list = find_swapped_fitness(anneal_list, index_a, index_b, old_fitness, x_dimension, y_dimension)\n",
    "\n",
    "        if new_fitness <= old_fitness:\n",
    "            # swap back\n",
    "            anneal_list[index_a], anneal_list[index_b] = anneal_list[index_b], anneal_list[index_a]\n",
    "        else:\n",
    "            # finalize the swap by resetting old_fitness and changing anneal_list\n",
    "            old_fitness = new_fitness\n",
    "            anneal_list = new_anneal_list\n",
    "    return anneal_list"
   ]
  },
  {
   "cell_type": "code",
   "execution_count": 71,
   "metadata": {
    "tags": []
   },
   "outputs": [],
   "source": [
    "times_list = []\n",
    "for library_index in range(len(all_libraries)):\n",
    "    t = time.time()\n",
    "    anneal_list, x_dimension, y_dimension = library_processing(library_index)\n",
    "    anneal_list = annealing(anneal_list, 100000, find_fitness(anneal_list, x_dimension, y_dimension)[0], x_dimension, y_dimension)\n",
    "    unzipped_anneal_list = unzip_list(anneal_list)\n",
    "    processed_list = list(zip(unzipped_anneal_list[0], unzipped_anneal_list[1]))\n",
    "    with open('Annealed-Libaries/' + all_libraries[library_index] + '.txt', 'wb+') as f:\n",
    "        pickle.dump(processed_list, f)\n",
    "    times_list += [(all_libraries[library_index], time.time()-t)]"
   ]
  },
  {
   "cell_type": "code",
   "execution_count": 72,
   "metadata": {
    "tags": []
   },
   "outputs": [
    {
     "output_type": "stream",
     "name": "stdout",
     "text": "[('Transcription_Factor_PPIs', 945.6568388938904), ('TRRUST_Transcription_Factors_2019', 93.70540809631348), ('HumanCyc_2016', 28.387732982635498), ('huMAP', 62.78419494628906), ('KEA_2015', 182.9156768321991), ('KEGG_2019_Human', 813.9302940368652), ('KEGG_2019_Mouse', 903.9501688480377)]\n"
    }
   ],
   "source": [
    "print(times_list)"
   ]
  }
 ],
 "metadata": {
  "kernelspec": {
   "display_name": "Python 3.8.3 64-bit ('py383': conda)",
   "language": "python",
   "name": "python38364bitpy383conda2309aa976eb546f3b7675a3d2adb70e0"
  },
  "language_info": {
   "codemirror_mode": {
    "name": "ipython",
    "version": 3
   },
   "file_extension": ".py",
   "mimetype": "text/x-python",
   "name": "python",
   "nbconvert_exporter": "python",
   "pygments_lexer": "ipython3",
   "version": "3.8.3-final"
  }
 },
 "nbformat": 4,
 "nbformat_minor": 2
}