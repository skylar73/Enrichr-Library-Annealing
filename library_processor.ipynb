{
 "cells": [
  {
   "cell_type": "markdown",
   "metadata": {},
   "source": [
    "### Canvas Creation from Enrichr"
   ]
  },
  {
   "cell_type": "code",
   "execution_count": 98,
   "metadata": {},
   "outputs": [],
   "source": [
    "import pandas as pd \n",
    "import numpy as np\n",
    "import pickle\n",
    "import json\n",
    "import requests\n",
    "import math\n",
    "import matplotlib\n",
    "import uuid\n",
    "import urllib\n",
    "import time as time\n",
    "from textwrap import dedent\n",
    "from IPython.core.display import display, HTML\n",
    "from string import Template\n",
    "from random import seed, randint\n",
    "from operator import itemgetter"
   ]
  },
  {
   "cell_type": "markdown",
   "metadata": {},
   "source": [
    "Below this is arbitrary definitions for these variables, their actual values will be selected in the Appyter (so DON'T ADD BELOW CELL TO APPYTER)"
   ]
  },
  {
   "cell_type": "code",
   "execution_count": 99,
   "metadata": {},
   "outputs": [],
   "source": [
    "# skipped: 'TRANSFAC_and_JASPAR_PWMs', 'ARCHS4_Kinases_Coexp', 'Kinase_Perturbations_from_GEO_down', 'Kinase_Perturbations_from_GEO_up', 'PPI_Hub_Proteins', 'Reactome_2016', 'ARCHS4_IDG_Coexp', 'DepMap_WG_CRISPR_Screens_Broad_CellLines_2019', 'DepMap_WG_CRISPR_Screens_Sanger_CellLines_2019', 'Virus_Perturbations_from_GEO_down', 'Virus_Perturbations_from_GEO_up', 'ARCHS4_Cell-lines', 'ARCHS4_Tissues', 'CCLE_Proteomics_2020', 'ESCAPE', 'Human_Gene_Atlas', 'Mouse_Gene_Atlas', 'NCI-60_Cancer_Cell_Lines', 'ProteomicsDB_2020', 'Chromosome_Location_hg19', 'HomoloGene', 'InterPro_Domains_2019'\n",
    "\n",
    "# also skipped: 'ChEA_2013', 'ChEA_2015', 'Chromosome_Location', 'Disease_Signatures_from_GEO_down_2014', 'Disease_Signatures_from_GEO_up_2014', 'Drug_Perturbations_from_GEO_2014', 'ENCODE_Histone_Modifications_2013', 'ENCODE_TF_ChIP-seq_2014', 'GO_Biological_Process_2013', 'GO_Cellular_Component_2013', 'GO_Cellular_Component_2015', 'GO_Cellular_Component_2017', 'GO_Cellular_Component_2017b', 'GO_Molecular_Function_2013', 'GO_Molecular_Function_2015', 'GO_Molecular_Function_2017', 'KEGG_2013', 'KEGG_2015', 'KEGG_2016', 'MGI_Mammalian_Phenotype_2013', 'MGI_Mammalian_Phenotype_Level_3', 'MGI_Mammalian_Phenotype_Level_4', 'TargetScan_microRNA', 'Tissue_Protein_Expression_from_ProteomicsDB', \n",
    "\n",
    "# skipped but might be fast: 'KEA_2013', 'NCI-Nature_2015', 'Panther_2015', 'Reactome_2013', 'WikiPathways_2013', 'WikiPathways_2015', 'WikiPathways_2016'\n",
    "\n",
    "# NOTE: didn't go through crowd section yet\n",
    "\n",
    "# 'ENCODE_and_ChEA_Consensus_TFs_from_ChIP-X', 'Table_Mining_of_CRISPR_Studies' <- no link? maybe?\n",
    "\n",
    "all_libraries = ['Panther_2016', 'Phosphatase_Substrates_from_DEPOD', 'SILAC_Phosphoproteomics', 'SubCell_BarCode']"
   ]
  },
  {
   "cell_type": "code",
   "execution_count": 100,
   "metadata": {
    "tags": []
   },
   "outputs": [],
   "source": [
    "def library_processing(library_index):\n",
    "    # processes library data\n",
    "    raw_library_data = []\n",
    "    library_data = []\n",
    "\n",
    "    with urllib.request.urlopen('https://amp.pharm.mssm.edu/Enrichr/geneSetLibrary?mode=text&libraryName=' + all_libraries[library_index]) as f:\n",
    "        for line in f.readlines():\n",
    "                raw_library_data.append(line.decode(\"utf-8\").split(\"\\t\\t\"))\n",
    "    name = []\n",
    "    gene_list = []\n",
    "\n",
    "    for i in range(len(raw_library_data)):\n",
    "        name += [raw_library_data[i][0]]\n",
    "        raw_genes = raw_library_data[i][1].split(\"\\t\")\n",
    "        gene_list += [raw_genes[:-1]]\n",
    "\n",
    "    # determine the dimensions of the canvas\n",
    "    x_dimension = math.ceil(math.sqrt(len(name)))\n",
    "    y_dimension = math.ceil(math.sqrt(len(name)))\n",
    "\n",
    "    # zip name, gene_list, indices, and blank list for neighbor score then add dummy entries to the zipped list\n",
    "    num_hex = x_dimension*y_dimension\n",
    "    neighbor_score = [0.0] * len(name)\n",
    "    anneal_list = list(zip(name, gene_list, neighbor_score))\n",
    "\n",
    "    # add \"dummy\" hexagons so the rectangular shape is filled\n",
    "    for i in range(len(name), num_hex):\n",
    "        anneal_list += [('', [], 0.0)]\n",
    "\n",
    "    return anneal_list, x_dimension, y_dimension\n",
    "\n",
    "def unzip_list(anneal_list):\n",
    "    unzipped_list = zip(*anneal_list)\n",
    "    return list(unzipped_list)"
   ]
  },
  {
   "cell_type": "code",
   "execution_count": 101,
   "metadata": {
    "tags": []
   },
   "outputs": [],
   "source": [
    "def find_neighbors(ind, x_dimension, y_dimension):\n",
    "    # returns a list of the indices of the neighbors of the index given\n",
    "    \n",
    "    neighbors = []\n",
    "    num_hex = x_dimension * y_dimension\n",
    "\n",
    "    if 0 <= ind <= x_dimension-1:\n",
    "        # top row (inc. corners)\n",
    "        if ind == 0:\n",
    "            # top left corner\n",
    "            neighbors = [num_hex-1, num_hex-x_dimension, x_dimension-1, 2*x_dimension-1, ind+1, ind+x_dimension]\n",
    "        elif ind == (x_dimension-1):\n",
    "            # top right corner\n",
    "            neighbors = [ind-1, ind+x_dimension, 0, ind+x_dimension-1, num_hex-2, num_hex-1]\n",
    "        else:\n",
    "            # non-corner top row\n",
    "            neighbors = [ind-1, ind+1, ind+x_dimension, ind+num_hex-x_dimension-1, \n",
    "            ind+num_hex-x_dimension, ind+x_dimension-1]\n",
    "\n",
    "    elif (num_hex - x_dimension) <= ind <= num_hex -1:\n",
    "        if ind == (num_hex-x_dimension):\n",
    "            # bottom left corner\n",
    "            neighbors = [ind+1, ind-x_dimension, ind-x_dimension+1, 0, 1, num_hex-1]\n",
    "        elif ind == (num_hex-1):\n",
    "            # bottom right corner\n",
    "            neighbors = [ind-1, ind-x_dimension, ind-x_dimension+1, 0, x_dimension-1,\n",
    "            num_hex-2*x_dimension]\n",
    "        else:\n",
    "            # non-corner bottom row\n",
    "            neighbors = [ind-1, ind+1, ind-x_dimension, ind-x_dimension+1, ind-num_hex+x_dimension,\n",
    "            ind-num_hex+x_dimension+1]\n",
    "    elif ind % y_dimension == 0 and (ind/y_dimension)%2 == 1:\n",
    "        # \"inner\" left edge (not top or bottom row)\n",
    "        neighbors = [ind+x_dimension-1, ind+1, ind-x_dimension, ind-x_dimension+1, ind+x_dimension, \n",
    "        ind+x_dimension+1]\n",
    "    elif ind % y_dimension == 0 and (ind/y_dimension)%2 == 0:\n",
    "        # \"outer\" left edge (not top or bottom row)\n",
    "        neighbors = [ind-1, ind+1, ind+x_dimension, ind+2*x_dimension-1, ind-x_dimension, \n",
    "        ind+x_dimension-1]\n",
    "    elif (ind+1) % y_dimension == 0 and ((ind+1)/y_dimension)%2 == 0:\n",
    "        # \"outer\" right edge (not top or bottom row)\n",
    "        neighbors = [ind-1, ind+1, ind-x_dimension, ind-x_dimension+1, ind+x_dimension, \n",
    "        ind-2*x_dimension+1]\n",
    "    elif (ind+1) % y_dimension == 0 and ((ind+1)/y_dimension)%2 == 1:\n",
    "        # \"inner\" right edge (not top or bottom row)\n",
    "        neighbors = [ind-1, ind-x_dimension-1, ind-x_dimension, ind-x_dimension+1, ind+x_dimension, \n",
    "        ind+x_dimension-1]\n",
    "    else:\n",
    "        # middle\n",
    "        neighbors = [ind-1, ind+1, ind-x_dimension, ind-x_dimension+1, ind+x_dimension, \n",
    "        ind+x_dimension+1]\n",
    "    return neighbors"
   ]
  },
  {
   "cell_type": "code",
   "execution_count": 102,
   "metadata": {},
   "outputs": [],
   "source": [
    "# initially find fitness\n",
    "def find_fitness(anneal_list, x_dimension, y_dimension):\n",
    "    fitness = 0\n",
    "    for i in range(len(anneal_list)):\n",
    "        neighbors = find_neighbors(i, x_dimension, y_dimension)\n",
    "        sum_neighbor_score = 0\n",
    "        for index in neighbors:\n",
    "            intersection = [value for value in anneal_list[index][1] if value in anneal_list[i][1]]\n",
    "            if len(anneal_list[index][1]) + len(anneal_list[i][1]) != 0:\n",
    "                jaccard = len(intersection)/(len(anneal_list[index][1]) + len(anneal_list[i][1]))\n",
    "            else:\n",
    "                jaccard = 0.0\n",
    "            sum_neighbor_score += jaccard\n",
    "        hex_list = list(anneal_list[i])\n",
    "        hex_list[2] = sum_neighbor_score\n",
    "        hex_tuple = tuple(hex_list)\n",
    "        anneal_list[i] = hex_tuple\n",
    "        fitness += sum_neighbor_score\n",
    "    return fitness, anneal_list\n",
    "\n",
    "# take indices of swapped hexagons\n",
    "def find_swapped_fitness(anneal_list, swapped_a, swapped_b, old_fitness, x_dimension, y_dimension):\n",
    "    neighbors_a = find_neighbors(swapped_a, x_dimension, y_dimension)\n",
    "    neighbors_b = find_neighbors(swapped_b, x_dimension, y_dimension)\n",
    "    hexagons_to_update = [swapped_a, swapped_b] + neighbors_a + neighbors_b\n",
    "    anneal_copy = anneal_list.copy()\n",
    "\n",
    "    new_fitness = 0\n",
    "    # Recalculate scores for all hexagons that need updating\n",
    "    for hex in hexagons_to_update:\n",
    "\n",
    "        # subtract out the swapped neighbor fitnesses because they are changing \n",
    "        old_fitness -= anneal_copy[hex][2]\n",
    "\n",
    "        neighbors = find_neighbors(hex, x_dimension, y_dimension)\n",
    "        sum_neighbor_score = 0\n",
    "        for index in neighbors:\n",
    "            intersection = [value for value in anneal_copy[index][1] if value in anneal_copy[hex][1]]\n",
    "            if len(anneal_copy[index][1]) + len(anneal_copy[hex][1]) != 0:\n",
    "                jaccard = len(intersection)/(len(anneal_copy[index][1]) + len(anneal_copy[hex][1]))\n",
    "            else:\n",
    "                jaccard = 0.0\n",
    "            sum_neighbor_score += jaccard\n",
    "        hex_list = list(anneal_copy[hex])\n",
    "        hex_list[2] = sum_neighbor_score\n",
    "        hex_tuple = tuple(hex_list)\n",
    "        anneal_copy[hex] = hex_tuple\n",
    "        new_fitness += sum_neighbor_score\n",
    "        \n",
    "    return old_fitness + new_fitness, anneal_copy"
   ]
  },
  {
   "cell_type": "code",
   "execution_count": 103,
   "metadata": {},
   "outputs": [],
   "source": [
    "def annealing(anneal_list, steps, old_fitness, x_dimension, y_dimension):\n",
    "    num_hex = x_dimension * y_dimension\n",
    "    # returns unzipped list\n",
    "    for i in range(steps):\n",
    "        index_a = randint(0, num_hex-1)\n",
    "        index_b = randint(0, num_hex-1)\n",
    "        anneal_list[index_a], anneal_list[index_b] = anneal_list[index_b], anneal_list[index_a]\n",
    "        new_fitness, new_anneal_list = find_swapped_fitness(anneal_list, index_a, index_b, old_fitness, x_dimension, y_dimension)\n",
    "\n",
    "        if new_fitness <= old_fitness:\n",
    "            # swap back\n",
    "            anneal_list[index_a], anneal_list[index_b] = anneal_list[index_b], anneal_list[index_a]\n",
    "        else:\n",
    "            # finalize the swap by resetting old_fitness and changing anneal_list\n",
    "            old_fitness = new_fitness\n",
    "            anneal_list = new_anneal_list\n",
    "    return anneal_list"
   ]
  },
  {
   "cell_type": "code",
   "execution_count": 104,
   "metadata": {
    "tags": []
   },
   "outputs": [],
   "source": [
    "times_list = []\n",
    "for library_index in range(len(all_libraries)):\n",
    "    t = time.time()\n",
    "    anneal_list, x_dimension, y_dimension = library_processing(library_index)\n",
    "    anneal_list = annealing(anneal_list, 100000, find_fitness(anneal_list, x_dimension, y_dimension)[0], x_dimension, y_dimension)\n",
    "    unzipped_anneal_list = unzip_list(anneal_list)\n",
    "    processed_list = list(zip(unzipped_anneal_list[0], unzipped_anneal_list[1]))\n",
    "    with open('Annealed-Libaries/' + all_libraries[library_index] + '.txt', 'wb+') as f:\n",
    "        pickle.dump(processed_list, f)\n",
    "    times_list += [(all_libraries[library_index], time.time()-t)]"
   ]
  },
  {
   "cell_type": "code",
   "execution_count": 105,
   "metadata": {
    "tags": []
   },
   "outputs": [
    {
     "output_type": "stream",
     "name": "stdout",
     "text": "[('Panther_2016', 209.8399338722229), ('Phosphatase_Substrates_from_DEPOD', 23.51476502418518), ('SILAC_Phosphoproteomics', 45352.31185507774), ('SubCell_BarCode', 25124.90694785118)]\n"
    }
   ],
   "source": [
    "print(times_list)"
   ]
  },
  {
   "cell_type": "code",
   "execution_count": 106,
   "metadata": {},
   "outputs": [
    {
     "output_type": "error",
     "ename": "KeyboardInterrupt",
     "evalue": "",
     "traceback": [
      "\u001b[0;31m---------------------------------------------------------------------------\u001b[0m",
      "\u001b[0;31mKeyboardInterrupt\u001b[0m                         Traceback (most recent call last)",
      "\u001b[0;32m<ipython-input-106-1441235107f4>\u001b[0m in \u001b[0;36m<module>\u001b[0;34m\u001b[0m\n\u001b[1;32m      5\u001b[0m     \u001b[0mt\u001b[0m \u001b[0;34m=\u001b[0m \u001b[0mtime\u001b[0m\u001b[0;34m.\u001b[0m\u001b[0mtime\u001b[0m\u001b[0;34m(\u001b[0m\u001b[0;34m)\u001b[0m\u001b[0;34m\u001b[0m\u001b[0;34m\u001b[0m\u001b[0m\n\u001b[1;32m      6\u001b[0m     \u001b[0manneal_list\u001b[0m\u001b[0;34m,\u001b[0m \u001b[0mx_dimension\u001b[0m\u001b[0;34m,\u001b[0m \u001b[0my_dimension\u001b[0m \u001b[0;34m=\u001b[0m \u001b[0mlibrary_processing\u001b[0m\u001b[0;34m(\u001b[0m\u001b[0mlibrary_index\u001b[0m\u001b[0;34m)\u001b[0m\u001b[0;34m\u001b[0m\u001b[0;34m\u001b[0m\u001b[0m\n\u001b[0;32m----> 7\u001b[0;31m     \u001b[0manneal_list\u001b[0m \u001b[0;34m=\u001b[0m \u001b[0mannealing\u001b[0m\u001b[0;34m(\u001b[0m\u001b[0manneal_list\u001b[0m\u001b[0;34m,\u001b[0m \u001b[0;36m100000\u001b[0m\u001b[0;34m,\u001b[0m \u001b[0mfind_fitness\u001b[0m\u001b[0;34m(\u001b[0m\u001b[0manneal_list\u001b[0m\u001b[0;34m,\u001b[0m \u001b[0mx_dimension\u001b[0m\u001b[0;34m,\u001b[0m \u001b[0my_dimension\u001b[0m\u001b[0;34m)\u001b[0m\u001b[0;34m[\u001b[0m\u001b[0;36m0\u001b[0m\u001b[0;34m]\u001b[0m\u001b[0;34m,\u001b[0m \u001b[0mx_dimension\u001b[0m\u001b[0;34m,\u001b[0m \u001b[0my_dimension\u001b[0m\u001b[0;34m)\u001b[0m\u001b[0;34m\u001b[0m\u001b[0;34m\u001b[0m\u001b[0m\n\u001b[0m\u001b[1;32m      8\u001b[0m     \u001b[0munzipped_anneal_list\u001b[0m \u001b[0;34m=\u001b[0m \u001b[0munzip_list\u001b[0m\u001b[0;34m(\u001b[0m\u001b[0manneal_list\u001b[0m\u001b[0;34m)\u001b[0m\u001b[0;34m\u001b[0m\u001b[0;34m\u001b[0m\u001b[0m\n\u001b[1;32m      9\u001b[0m     \u001b[0mprocessed_list\u001b[0m \u001b[0;34m=\u001b[0m \u001b[0mlist\u001b[0m\u001b[0;34m(\u001b[0m\u001b[0mzip\u001b[0m\u001b[0;34m(\u001b[0m\u001b[0munzipped_anneal_list\u001b[0m\u001b[0;34m[\u001b[0m\u001b[0;36m0\u001b[0m\u001b[0;34m]\u001b[0m\u001b[0;34m,\u001b[0m \u001b[0munzipped_anneal_list\u001b[0m\u001b[0;34m[\u001b[0m\u001b[0;36m1\u001b[0m\u001b[0;34m]\u001b[0m\u001b[0;34m)\u001b[0m\u001b[0;34m)\u001b[0m\u001b[0;34m\u001b[0m\u001b[0;34m\u001b[0m\u001b[0m\n",
      "\u001b[0;32m<ipython-input-103-834b08139231>\u001b[0m in \u001b[0;36mannealing\u001b[0;34m(anneal_list, steps, old_fitness, x_dimension, y_dimension)\u001b[0m\n\u001b[1;32m      6\u001b[0m         \u001b[0mindex_b\u001b[0m \u001b[0;34m=\u001b[0m \u001b[0mrandint\u001b[0m\u001b[0;34m(\u001b[0m\u001b[0;36m0\u001b[0m\u001b[0;34m,\u001b[0m \u001b[0mnum_hex\u001b[0m\u001b[0;34m-\u001b[0m\u001b[0;36m1\u001b[0m\u001b[0;34m)\u001b[0m\u001b[0;34m\u001b[0m\u001b[0;34m\u001b[0m\u001b[0m\n\u001b[1;32m      7\u001b[0m         \u001b[0manneal_list\u001b[0m\u001b[0;34m[\u001b[0m\u001b[0mindex_a\u001b[0m\u001b[0;34m]\u001b[0m\u001b[0;34m,\u001b[0m \u001b[0manneal_list\u001b[0m\u001b[0;34m[\u001b[0m\u001b[0mindex_b\u001b[0m\u001b[0;34m]\u001b[0m \u001b[0;34m=\u001b[0m \u001b[0manneal_list\u001b[0m\u001b[0;34m[\u001b[0m\u001b[0mindex_b\u001b[0m\u001b[0;34m]\u001b[0m\u001b[0;34m,\u001b[0m \u001b[0manneal_list\u001b[0m\u001b[0;34m[\u001b[0m\u001b[0mindex_a\u001b[0m\u001b[0;34m]\u001b[0m\u001b[0;34m\u001b[0m\u001b[0;34m\u001b[0m\u001b[0m\n\u001b[0;32m----> 8\u001b[0;31m         \u001b[0mnew_fitness\u001b[0m\u001b[0;34m,\u001b[0m \u001b[0mnew_anneal_list\u001b[0m \u001b[0;34m=\u001b[0m \u001b[0mfind_swapped_fitness\u001b[0m\u001b[0;34m(\u001b[0m\u001b[0manneal_list\u001b[0m\u001b[0;34m,\u001b[0m \u001b[0mindex_a\u001b[0m\u001b[0;34m,\u001b[0m \u001b[0mindex_b\u001b[0m\u001b[0;34m,\u001b[0m \u001b[0mold_fitness\u001b[0m\u001b[0;34m,\u001b[0m \u001b[0mx_dimension\u001b[0m\u001b[0;34m,\u001b[0m \u001b[0my_dimension\u001b[0m\u001b[0;34m)\u001b[0m\u001b[0;34m\u001b[0m\u001b[0;34m\u001b[0m\u001b[0m\n\u001b[0m\u001b[1;32m      9\u001b[0m \u001b[0;34m\u001b[0m\u001b[0m\n\u001b[1;32m     10\u001b[0m         \u001b[0;32mif\u001b[0m \u001b[0mnew_fitness\u001b[0m \u001b[0;34m<=\u001b[0m \u001b[0mold_fitness\u001b[0m\u001b[0;34m:\u001b[0m\u001b[0;34m\u001b[0m\u001b[0;34m\u001b[0m\u001b[0m\n",
      "\u001b[0;32m<ipython-input-102-47efb95e07a2>\u001b[0m in \u001b[0;36mfind_swapped_fitness\u001b[0;34m(anneal_list, swapped_a, swapped_b, old_fitness, x_dimension, y_dimension)\u001b[0m\n\u001b[1;32m     36\u001b[0m         \u001b[0msum_neighbor_score\u001b[0m \u001b[0;34m=\u001b[0m \u001b[0;36m0\u001b[0m\u001b[0;34m\u001b[0m\u001b[0;34m\u001b[0m\u001b[0m\n\u001b[1;32m     37\u001b[0m         \u001b[0;32mfor\u001b[0m \u001b[0mindex\u001b[0m \u001b[0;32min\u001b[0m \u001b[0mneighbors\u001b[0m\u001b[0;34m:\u001b[0m\u001b[0;34m\u001b[0m\u001b[0;34m\u001b[0m\u001b[0m\n\u001b[0;32m---> 38\u001b[0;31m             \u001b[0mintersection\u001b[0m \u001b[0;34m=\u001b[0m \u001b[0;34m[\u001b[0m\u001b[0mvalue\u001b[0m \u001b[0;32mfor\u001b[0m \u001b[0mvalue\u001b[0m \u001b[0;32min\u001b[0m \u001b[0manneal_copy\u001b[0m\u001b[0;34m[\u001b[0m\u001b[0mindex\u001b[0m\u001b[0;34m]\u001b[0m\u001b[0;34m[\u001b[0m\u001b[0;36m1\u001b[0m\u001b[0;34m]\u001b[0m \u001b[0;32mif\u001b[0m \u001b[0mvalue\u001b[0m \u001b[0;32min\u001b[0m \u001b[0manneal_copy\u001b[0m\u001b[0;34m[\u001b[0m\u001b[0mhex\u001b[0m\u001b[0;34m]\u001b[0m\u001b[0;34m[\u001b[0m\u001b[0;36m1\u001b[0m\u001b[0;34m]\u001b[0m\u001b[0;34m]\u001b[0m\u001b[0;34m\u001b[0m\u001b[0;34m\u001b[0m\u001b[0m\n\u001b[0m\u001b[1;32m     39\u001b[0m             \u001b[0;32mif\u001b[0m \u001b[0mlen\u001b[0m\u001b[0;34m(\u001b[0m\u001b[0manneal_copy\u001b[0m\u001b[0;34m[\u001b[0m\u001b[0mindex\u001b[0m\u001b[0;34m]\u001b[0m\u001b[0;34m[\u001b[0m\u001b[0;36m1\u001b[0m\u001b[0;34m]\u001b[0m\u001b[0;34m)\u001b[0m \u001b[0;34m+\u001b[0m \u001b[0mlen\u001b[0m\u001b[0;34m(\u001b[0m\u001b[0manneal_copy\u001b[0m\u001b[0;34m[\u001b[0m\u001b[0mhex\u001b[0m\u001b[0;34m]\u001b[0m\u001b[0;34m[\u001b[0m\u001b[0;36m1\u001b[0m\u001b[0;34m]\u001b[0m\u001b[0;34m)\u001b[0m \u001b[0;34m!=\u001b[0m \u001b[0;36m0\u001b[0m\u001b[0;34m:\u001b[0m\u001b[0;34m\u001b[0m\u001b[0;34m\u001b[0m\u001b[0m\n\u001b[1;32m     40\u001b[0m                 \u001b[0mjaccard\u001b[0m \u001b[0;34m=\u001b[0m \u001b[0mlen\u001b[0m\u001b[0;34m(\u001b[0m\u001b[0mintersection\u001b[0m\u001b[0;34m)\u001b[0m\u001b[0;34m/\u001b[0m\u001b[0;34m(\u001b[0m\u001b[0mlen\u001b[0m\u001b[0;34m(\u001b[0m\u001b[0manneal_copy\u001b[0m\u001b[0;34m[\u001b[0m\u001b[0mindex\u001b[0m\u001b[0;34m]\u001b[0m\u001b[0;34m[\u001b[0m\u001b[0;36m1\u001b[0m\u001b[0;34m]\u001b[0m\u001b[0;34m)\u001b[0m \u001b[0;34m+\u001b[0m \u001b[0mlen\u001b[0m\u001b[0;34m(\u001b[0m\u001b[0manneal_copy\u001b[0m\u001b[0;34m[\u001b[0m\u001b[0mhex\u001b[0m\u001b[0;34m]\u001b[0m\u001b[0;34m[\u001b[0m\u001b[0;36m1\u001b[0m\u001b[0;34m]\u001b[0m\u001b[0;34m)\u001b[0m\u001b[0;34m)\u001b[0m\u001b[0;34m\u001b[0m\u001b[0;34m\u001b[0m\u001b[0m\n",
      "\u001b[0;32m<ipython-input-102-47efb95e07a2>\u001b[0m in \u001b[0;36m<listcomp>\u001b[0;34m(.0)\u001b[0m\n\u001b[1;32m     36\u001b[0m         \u001b[0msum_neighbor_score\u001b[0m \u001b[0;34m=\u001b[0m \u001b[0;36m0\u001b[0m\u001b[0;34m\u001b[0m\u001b[0;34m\u001b[0m\u001b[0m\n\u001b[1;32m     37\u001b[0m         \u001b[0;32mfor\u001b[0m \u001b[0mindex\u001b[0m \u001b[0;32min\u001b[0m \u001b[0mneighbors\u001b[0m\u001b[0;34m:\u001b[0m\u001b[0;34m\u001b[0m\u001b[0;34m\u001b[0m\u001b[0m\n\u001b[0;32m---> 38\u001b[0;31m             \u001b[0mintersection\u001b[0m \u001b[0;34m=\u001b[0m \u001b[0;34m[\u001b[0m\u001b[0mvalue\u001b[0m \u001b[0;32mfor\u001b[0m \u001b[0mvalue\u001b[0m \u001b[0;32min\u001b[0m \u001b[0manneal_copy\u001b[0m\u001b[0;34m[\u001b[0m\u001b[0mindex\u001b[0m\u001b[0;34m]\u001b[0m\u001b[0;34m[\u001b[0m\u001b[0;36m1\u001b[0m\u001b[0;34m]\u001b[0m \u001b[0;32mif\u001b[0m \u001b[0mvalue\u001b[0m \u001b[0;32min\u001b[0m \u001b[0manneal_copy\u001b[0m\u001b[0;34m[\u001b[0m\u001b[0mhex\u001b[0m\u001b[0;34m]\u001b[0m\u001b[0;34m[\u001b[0m\u001b[0;36m1\u001b[0m\u001b[0;34m]\u001b[0m\u001b[0;34m]\u001b[0m\u001b[0;34m\u001b[0m\u001b[0;34m\u001b[0m\u001b[0m\n\u001b[0m\u001b[1;32m     39\u001b[0m             \u001b[0;32mif\u001b[0m \u001b[0mlen\u001b[0m\u001b[0;34m(\u001b[0m\u001b[0manneal_copy\u001b[0m\u001b[0;34m[\u001b[0m\u001b[0mindex\u001b[0m\u001b[0;34m]\u001b[0m\u001b[0;34m[\u001b[0m\u001b[0;36m1\u001b[0m\u001b[0;34m]\u001b[0m\u001b[0;34m)\u001b[0m \u001b[0;34m+\u001b[0m \u001b[0mlen\u001b[0m\u001b[0;34m(\u001b[0m\u001b[0manneal_copy\u001b[0m\u001b[0;34m[\u001b[0m\u001b[0mhex\u001b[0m\u001b[0;34m]\u001b[0m\u001b[0;34m[\u001b[0m\u001b[0;36m1\u001b[0m\u001b[0;34m]\u001b[0m\u001b[0;34m)\u001b[0m \u001b[0;34m!=\u001b[0m \u001b[0;36m0\u001b[0m\u001b[0;34m:\u001b[0m\u001b[0;34m\u001b[0m\u001b[0;34m\u001b[0m\u001b[0m\n\u001b[1;32m     40\u001b[0m                 \u001b[0mjaccard\u001b[0m \u001b[0;34m=\u001b[0m \u001b[0mlen\u001b[0m\u001b[0;34m(\u001b[0m\u001b[0mintersection\u001b[0m\u001b[0;34m)\u001b[0m\u001b[0;34m/\u001b[0m\u001b[0;34m(\u001b[0m\u001b[0mlen\u001b[0m\u001b[0;34m(\u001b[0m\u001b[0manneal_copy\u001b[0m\u001b[0;34m[\u001b[0m\u001b[0mindex\u001b[0m\u001b[0;34m]\u001b[0m\u001b[0;34m[\u001b[0m\u001b[0;36m1\u001b[0m\u001b[0;34m]\u001b[0m\u001b[0;34m)\u001b[0m \u001b[0;34m+\u001b[0m \u001b[0mlen\u001b[0m\u001b[0;34m(\u001b[0m\u001b[0manneal_copy\u001b[0m\u001b[0;34m[\u001b[0m\u001b[0mhex\u001b[0m\u001b[0;34m]\u001b[0m\u001b[0;34m[\u001b[0m\u001b[0;36m1\u001b[0m\u001b[0;34m]\u001b[0m\u001b[0;34m)\u001b[0m\u001b[0;34m)\u001b[0m\u001b[0;34m\u001b[0m\u001b[0;34m\u001b[0m\u001b[0m\n",
      "\u001b[0;31mKeyboardInterrupt\u001b[0m: "
     ]
    }
   ],
   "source": [
    "all_libraries = ['Tissue_Protein_Expression_from_Human_Proteome_Map', 'Data_Acquisition_Method_Most_Popular_Genes', 'Enrichr_Libraries_Most_Popular_Genes', 'Pfam_InterPro_Domains']\n",
    "\n",
    "times_list = []\n",
    "for library_index in range(len(all_libraries)):\n",
    "    t = time.time()\n",
    "    anneal_list, x_dimension, y_dimension = library_processing(library_index)\n",
    "    anneal_list = annealing(anneal_list, 100000, find_fitness(anneal_list, x_dimension, y_dimension)[0], x_dimension, y_dimension)\n",
    "    unzipped_anneal_list = unzip_list(anneal_list)\n",
    "    processed_list = list(zip(unzipped_anneal_list[0], unzipped_anneal_list[1]))\n",
    "    with open('Annealed-Libaries/' + all_libraries[library_index] + '.txt', 'wb+') as f:\n",
    "        pickle.dump(processed_list, f)\n",
    "    times_list += [(all_libraries[library_index], time.time()-t)]\n",
    "print(times_list)"
   ]
  },
  {
   "cell_type": "code",
   "execution_count": null,
   "metadata": {},
   "outputs": [],
   "source": [
    "all_libraries = ['Pfam_Domains_2019', 'BioCarta_2013', 'BioCarta_2015', 'HumanCyc_2015']\n",
    "\n",
    "times_list = []\n",
    "for library_index in range(len(all_libraries)):\n",
    "    t = time.time()\n",
    "    anneal_list, x_dimension, y_dimension = library_processing(library_index)\n",
    "    anneal_list = annealing(anneal_list, 100000, find_fitness(anneal_list, x_dimension, y_dimension)[0], x_dimension, y_dimension)\n",
    "    unzipped_anneal_list = unzip_list(anneal_list)\n",
    "    processed_list = list(zip(unzipped_anneal_list[0], unzipped_anneal_list[1]))\n",
    "    with open('Annealed-Libaries/' + all_libraries[library_index] + '.txt', 'wb+') as f:\n",
    "        pickle.dump(processed_list, f)\n",
    "    times_list += [(all_libraries[library_index], time.time()-t)]\n",
    "print(times_list)"
   ]
  },
  {
   "cell_type": "code",
   "execution_count": null,
   "metadata": {},
   "outputs": [],
   "source": [
    "all_libraries = ['ChEA_2016']\n",
    "\n",
    "times_list = []\n",
    "for library_index in range(len(all_libraries)):\n",
    "    t = time.time()\n",
    "    anneal_list, x_dimension, y_dimension = library_processing(library_index)\n",
    "    anneal_list = annealing(anneal_list, 100000, find_fitness(anneal_list, x_dimension, y_dimension)[0], x_dimension, y_dimension)\n",
    "    unzipped_anneal_list = unzip_list(anneal_list)\n",
    "    processed_list = list(zip(unzipped_anneal_list[0], unzipped_anneal_list[1]))\n",
    "    with open('Annealed-Libaries/' + all_libraries[library_index] + '.txt', 'wb+') as f:\n",
    "        pickle.dump(processed_list, f)\n",
    "    times_list += [(all_libraries[library_index], time.time()-t)]\n",
    "print(times_list)"
   ]
  },
  {
   "cell_type": "code",
   "execution_count": null,
   "metadata": {},
   "outputs": [],
   "source": [
    "all_libraries = ['ENCODE_Histone_Modifications_2015']\n",
    "\n",
    "times_list = []\n",
    "for library_index in range(len(all_libraries)):\n",
    "    t = time.time()\n",
    "    anneal_list, x_dimension, y_dimension = library_processing(library_index)\n",
    "    anneal_list = annealing(anneal_list, 100000, find_fitness(anneal_list, x_dimension, y_dimension)[0], x_dimension, y_dimension)\n",
    "    unzipped_anneal_list = unzip_list(anneal_list)\n",
    "    processed_list = list(zip(unzipped_anneal_list[0], unzipped_anneal_list[1]))\n",
    "    with open('Annealed-Libaries/' + all_libraries[library_index] + '.txt', 'wb+') as f:\n",
    "        pickle.dump(processed_list, f)\n",
    "    times_list += [(all_libraries[library_index], time.time()-t)]\n",
    "print(times_list)"
   ]
  },
  {
   "cell_type": "code",
   "execution_count": null,
   "metadata": {},
   "outputs": [],
   "source": [
    "all_libraries = ['ENCODE_TF_ChIP-seq_2015']\n",
    "\n",
    "times_list = []\n",
    "for library_index in range(len(all_libraries)):\n",
    "    t = time.time()\n",
    "    anneal_list, x_dimension, y_dimension = library_processing(library_index)\n",
    "    anneal_list = annealing(anneal_list, 100000, find_fitness(anneal_list, x_dimension, y_dimension)[0], x_dimension, y_dimension)\n",
    "    unzipped_anneal_list = unzip_list(anneal_list)\n",
    "    processed_list = list(zip(unzipped_anneal_list[0], unzipped_anneal_list[1]))\n",
    "    with open('Annealed-Libaries/' + all_libraries[library_index] + '.txt', 'wb+') as f:\n",
    "        pickle.dump(processed_list, f)\n",
    "    times_list += [(all_libraries[library_index], time.time()-t)]\n",
    "print(times_list)"
   ]
  },
  {
   "cell_type": "code",
   "execution_count": null,
   "metadata": {},
   "outputs": [],
   "source": [
    "all_libraries = ['Epigenomics_Roadmap_HM_ChIP-seq']\n",
    "\n",
    "times_list = []\n",
    "for library_index in range(len(all_libraries)):\n",
    "    t = time.time()\n",
    "    anneal_list, x_dimension, y_dimension = library_processing(library_index)\n",
    "    anneal_list = annealing(anneal_list, 100000, find_fitness(anneal_list, x_dimension, y_dimension)[0], x_dimension, y_dimension)\n",
    "    unzipped_anneal_list = unzip_list(anneal_list)\n",
    "    processed_list = list(zip(unzipped_anneal_list[0], unzipped_anneal_list[1]))\n",
    "    with open('Annealed-Libaries/' + all_libraries[library_index] + '.txt', 'wb+') as f:\n",
    "        pickle.dump(processed_list, f)\n",
    "    times_list += [(all_libraries[library_index], time.time()-t)]\n",
    "print(times_list)"
   ]
  },
  {
   "cell_type": "code",
   "execution_count": null,
   "metadata": {},
   "outputs": [],
   "source": [
    "all_libraries = ['Genome_Browser_PWMs']\n",
    "\n",
    "times_list = []\n",
    "for library_index in range(len(all_libraries)):\n",
    "    t = time.time()\n",
    "    anneal_list, x_dimension, y_dimension = library_processing(library_index)\n",
    "    anneal_list = annealing(anneal_list, 100000, find_fitness(anneal_list, x_dimension, y_dimension)[0], x_dimension, y_dimension)\n",
    "    unzipped_anneal_list = unzip_list(anneal_list)\n",
    "    processed_list = list(zip(unzipped_anneal_list[0], unzipped_anneal_list[1]))\n",
    "    with open('Annealed-Libaries/' + all_libraries[library_index] + '.txt', 'wb+') as f:\n",
    "        pickle.dump(processed_list, f)\n",
    "    times_list += [(all_libraries[library_index], time.time()-t)]\n",
    "print(times_list)"
   ]
  },
  {
   "cell_type": "code",
   "execution_count": null,
   "metadata": {},
   "outputs": [],
   "source": [
    "all_libraries = ['TargetScan_microRNA_2017']\n",
    "\n",
    "times_list = []\n",
    "for library_index in range(len(all_libraries)):\n",
    "    t = time.time()\n",
    "    anneal_list, x_dimension, y_dimension = library_processing(library_index)\n",
    "    anneal_list = annealing(anneal_list, 100000, find_fitness(anneal_list, x_dimension, y_dimension)[0], x_dimension, y_dimension)\n",
    "    unzipped_anneal_list = unzip_list(anneal_list)\n",
    "    processed_list = list(zip(unzipped_anneal_list[0], unzipped_anneal_list[1]))\n",
    "    with open('Annealed-Libaries/' + all_libraries[library_index] + '.txt', 'wb+') as f:\n",
    "        pickle.dump(processed_list, f)\n",
    "    times_list += [(all_libraries[library_index], time.time()-t)]\n",
    "print(times_list)"
   ]
  },
  {
   "cell_type": "code",
   "execution_count": null,
   "metadata": {},
   "outputs": [],
   "source": [
    "all_libraries = ['TF-LOF_Expression_from_GEO']\n",
    "\n",
    "times_list = []\n",
    "for library_index in range(len(all_libraries)):\n",
    "    t = time.time()\n",
    "    anneal_list, x_dimension, y_dimension = library_processing(library_index)\n",
    "    anneal_list = annealing(anneal_list, 100000, find_fitness(anneal_list, x_dimension, y_dimension)[0], x_dimension, y_dimension)\n",
    "    unzipped_anneal_list = unzip_list(anneal_list)\n",
    "    processed_list = list(zip(unzipped_anneal_list[0], unzipped_anneal_list[1]))\n",
    "    with open('Annealed-Libaries/' + all_libraries[library_index] + '.txt', 'wb+') as f:\n",
    "        pickle.dump(processed_list, f)\n",
    "    times_list += [(all_libraries[library_index], time.time()-t)]\n",
    "print(times_list)"
   ]
  }
 ],
 "metadata": {
  "kernelspec": {
   "display_name": "Python 3.8.3 64-bit ('py383': conda)",
   "language": "python",
   "name": "python38364bitpy383conda2309aa976eb546f3b7675a3d2adb70e0"
  },
  "language_info": {
   "codemirror_mode": {
    "name": "ipython",
    "version": 3
   },
   "file_extension": ".py",
   "mimetype": "text/x-python",
   "name": "python",
   "nbconvert_exporter": "python",
   "pygments_lexer": "ipython3",
   "version": "3.8.3-final"
  }
 },
 "nbformat": 4,
 "nbformat_minor": 2
}